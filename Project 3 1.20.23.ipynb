{
 "cells": [
  {
   "cell_type": "markdown",
   "id": "c0079e8f",
   "metadata": {},
   "source": [
    "### Project 3 - Capstone Project (The Impact Covid-19 had on Medicaid)\n",
    "\n",
    "#### Outline:\n",
    "##### 1. Data Importing/Cleaning/Filtering\n",
    "##### 2. Statistics\n",
    "##### 3. Visualizations\n",
    "##### 4. Conclusion"
   ]
  },
  {
   "cell_type": "code",
   "execution_count": 4,
   "id": "a097a25c",
   "metadata": {},
   "outputs": [],
   "source": [
    "import pandas as pd\n",
    "import numpy as np\n",
    "from pivottablejs import pivot_ui\n",
    "from IPython.display import HTML"
   ]
  },
  {
   "cell_type": "code",
   "execution_count": 5,
   "id": "85b51a9e",
   "metadata": {},
   "outputs": [],
   "source": [
    "df = pd.read_csv('Medicaid_Program_Enrollment_by_Month___Beginning_2009.csv', low_memory=False)"
   ]
  },
  {
   "cell_type": "markdown",
   "id": "574367ea",
   "metadata": {},
   "source": [
    "#### *1B. Getting to the know the data*"
   ]
  },
  {
   "cell_type": "code",
   "execution_count": 6,
   "id": "e3d73354",
   "metadata": {},
   "outputs": [
    {
     "name": "stdout",
     "output_type": "stream",
     "text": [
      "<class 'pandas.core.frame.DataFrame'>\n",
      "RangeIndex: 2389919 entries, 0 to 2389918\n",
      "Data columns (total 12 columns):\n",
      " #   Column                            Dtype \n",
      "---  ------                            ----- \n",
      " 0   Eligibility Year                  int64 \n",
      " 1   Eligibility Month                 int64 \n",
      " 2   Economic Region                   object\n",
      " 3   Aid Category                      object\n",
      " 4   Dual Eligible                     object\n",
      " 5   Managed Care vs. Fee For Service  object\n",
      " 6   Plan Name                         object\n",
      " 7   Plan Type                         object\n",
      " 8   Gender                            object\n",
      " 9   Age Group                         object\n",
      " 10  Race                              object\n",
      " 11  Number of Recipients              int64 \n",
      "dtypes: int64(3), object(9)\n",
      "memory usage: 218.8+ MB\n"
     ]
    }
   ],
   "source": [
    "df.info()"
   ]
  },
  {
   "cell_type": "code",
   "execution_count": 7,
   "id": "35e96cd8",
   "metadata": {},
   "outputs": [
    {
     "data": {
      "text/plain": [
       "0"
      ]
     },
     "execution_count": 7,
     "metadata": {},
     "output_type": "execute_result"
    }
   ],
   "source": [
    "# Checking for nulls in the dataframe\n",
    "\n",
    "df.isnull().sum().sum()"
   ]
  },
  {
   "cell_type": "code",
   "execution_count": 8,
   "id": "601e8e08",
   "metadata": {},
   "outputs": [
    {
     "data": {
      "text/html": [
       "<div>\n",
       "<style scoped>\n",
       "    .dataframe tbody tr th:only-of-type {\n",
       "        vertical-align: middle;\n",
       "    }\n",
       "\n",
       "    .dataframe tbody tr th {\n",
       "        vertical-align: top;\n",
       "    }\n",
       "\n",
       "    .dataframe thead th {\n",
       "        text-align: right;\n",
       "    }\n",
       "</style>\n",
       "<table border=\"1\" class=\"dataframe\">\n",
       "  <thead>\n",
       "    <tr style=\"text-align: right;\">\n",
       "      <th></th>\n",
       "      <th>Eligibility Year</th>\n",
       "      <th>Eligibility Month</th>\n",
       "      <th>Economic Region</th>\n",
       "      <th>Aid Category</th>\n",
       "      <th>Dual Eligible</th>\n",
       "      <th>Managed Care vs. Fee For Service</th>\n",
       "      <th>Plan Name</th>\n",
       "      <th>Plan Type</th>\n",
       "      <th>Gender</th>\n",
       "      <th>Age Group</th>\n",
       "      <th>Race</th>\n",
       "      <th>Number of Recipients</th>\n",
       "    </tr>\n",
       "  </thead>\n",
       "  <tbody>\n",
       "    <tr>\n",
       "      <th>0</th>\n",
       "      <td>2009</td>\n",
       "      <td>1</td>\n",
       "      <td>Capital District</td>\n",
       "      <td>FHPLUS</td>\n",
       "      <td>NO</td>\n",
       "      <td>MMC</td>\n",
       "      <td>CDPHP</td>\n",
       "      <td>HMO/PHSP</td>\n",
       "      <td>Female</td>\n",
       "      <td>00-20</td>\n",
       "      <td>ASIAN</td>\n",
       "      <td>5</td>\n",
       "    </tr>\n",
       "    <tr>\n",
       "      <th>1</th>\n",
       "      <td>2009</td>\n",
       "      <td>1</td>\n",
       "      <td>Capital District</td>\n",
       "      <td>FHPLUS</td>\n",
       "      <td>NO</td>\n",
       "      <td>MMC</td>\n",
       "      <td>CDPHP</td>\n",
       "      <td>HMO/PHSP</td>\n",
       "      <td>Female</td>\n",
       "      <td>00-20</td>\n",
       "      <td>BLACK</td>\n",
       "      <td>13</td>\n",
       "    </tr>\n",
       "    <tr>\n",
       "      <th>2</th>\n",
       "      <td>2009</td>\n",
       "      <td>1</td>\n",
       "      <td>Capital District</td>\n",
       "      <td>FHPLUS</td>\n",
       "      <td>NO</td>\n",
       "      <td>MMC</td>\n",
       "      <td>CDPHP</td>\n",
       "      <td>HMO/PHSP</td>\n",
       "      <td>Female</td>\n",
       "      <td>00-20</td>\n",
       "      <td>HISPANIC</td>\n",
       "      <td>11</td>\n",
       "    </tr>\n",
       "    <tr>\n",
       "      <th>3</th>\n",
       "      <td>2009</td>\n",
       "      <td>1</td>\n",
       "      <td>Capital District</td>\n",
       "      <td>FHPLUS</td>\n",
       "      <td>NO</td>\n",
       "      <td>MMC</td>\n",
       "      <td>CDPHP</td>\n",
       "      <td>HMO/PHSP</td>\n",
       "      <td>Female</td>\n",
       "      <td>00-20</td>\n",
       "      <td>OTHER</td>\n",
       "      <td>3</td>\n",
       "    </tr>\n",
       "    <tr>\n",
       "      <th>4</th>\n",
       "      <td>2009</td>\n",
       "      <td>1</td>\n",
       "      <td>Capital District</td>\n",
       "      <td>FHPLUS</td>\n",
       "      <td>NO</td>\n",
       "      <td>MMC</td>\n",
       "      <td>CDPHP</td>\n",
       "      <td>HMO/PHSP</td>\n",
       "      <td>Female</td>\n",
       "      <td>00-20</td>\n",
       "      <td>WHITE</td>\n",
       "      <td>52</td>\n",
       "    </tr>\n",
       "  </tbody>\n",
       "</table>\n",
       "</div>"
      ],
      "text/plain": [
       "   Eligibility Year  Eligibility Month   Economic Region Aid Category  \\\n",
       "0              2009                  1  Capital District       FHPLUS   \n",
       "1              2009                  1  Capital District       FHPLUS   \n",
       "2              2009                  1  Capital District       FHPLUS   \n",
       "3              2009                  1  Capital District       FHPLUS   \n",
       "4              2009                  1  Capital District       FHPLUS   \n",
       "\n",
       "  Dual Eligible Managed Care vs. Fee For Service Plan Name Plan Type  Gender  \\\n",
       "0            NO                              MMC     CDPHP  HMO/PHSP  Female   \n",
       "1            NO                              MMC     CDPHP  HMO/PHSP  Female   \n",
       "2            NO                              MMC     CDPHP  HMO/PHSP  Female   \n",
       "3            NO                              MMC     CDPHP  HMO/PHSP  Female   \n",
       "4            NO                              MMC     CDPHP  HMO/PHSP  Female   \n",
       "\n",
       "  Age Group      Race  Number of Recipients  \n",
       "0     00-20     ASIAN                     5  \n",
       "1     00-20     BLACK                    13  \n",
       "2     00-20  HISPANIC                    11  \n",
       "3     00-20     OTHER                     3  \n",
       "4     00-20     WHITE                    52  "
      ]
     },
     "execution_count": 8,
     "metadata": {},
     "output_type": "execute_result"
    }
   ],
   "source": [
    "df.head()"
   ]
  },
  {
   "cell_type": "code",
   "execution_count": 9,
   "id": "5dd98998",
   "metadata": {},
   "outputs": [
    {
     "data": {
      "text/plain": [
       "2021    226578\n",
       "2020    212071\n",
       "2019    208557\n",
       "2017    208267\n",
       "2018    207322\n",
       "2016    191349\n",
       "2014    171842\n",
       "2015    168766\n",
       "2013    158889\n",
       "2012    143505\n",
       "2011    134539\n",
       "2009    131987\n",
       "2010    130041\n",
       "2022     96206\n",
       "Name: Eligibility Year, dtype: int64"
      ]
     },
     "execution_count": 9,
     "metadata": {},
     "output_type": "execute_result"
    }
   ],
   "source": [
    "df['Eligibility Year'].value_counts()"
   ]
  },
  {
   "cell_type": "code",
   "execution_count": 10,
   "id": "ecf7ccc7",
   "metadata": {},
   "outputs": [
    {
     "data": {
      "text/plain": [
       "Female     1217748\n",
       "Male       1171589\n",
       "Unknown        582\n",
       "Name: Gender, dtype: int64"
      ]
     },
     "execution_count": 10,
     "metadata": {},
     "output_type": "execute_result"
    }
   ],
   "source": [
    "df['Gender'].value_counts()"
   ]
  },
  {
   "cell_type": "code",
   "execution_count": 11,
   "id": "d1dca2c8",
   "metadata": {},
   "outputs": [
    {
     "data": {
      "text/plain": [
       "45-64    767660\n",
       "21-44    656432\n",
       "65+      638247\n",
       "00-20    327580\n",
       "Name: Age Group, dtype: int64"
      ]
     },
     "execution_count": 11,
     "metadata": {},
     "output_type": "execute_result"
    }
   ],
   "source": [
    "df['Age Group'].value_counts()"
   ]
  },
  {
   "cell_type": "code",
   "execution_count": 12,
   "id": "9e9f7065",
   "metadata": {},
   "outputs": [
    {
     "data": {
      "text/plain": [
       "WHITE              541734\n",
       "BLACK              473033\n",
       "HISPANIC           443591\n",
       "OTHER              407878\n",
       "ASIAN              336593\n",
       "NATIVE AMERICAN    187090\n",
       "Name: Race, dtype: int64"
      ]
     },
     "execution_count": 12,
     "metadata": {},
     "output_type": "execute_result"
    }
   ],
   "source": [
    "df['Race'].value_counts()"
   ]
  },
  {
   "cell_type": "code",
   "execution_count": 13,
   "id": "b3dcdacd",
   "metadata": {},
   "outputs": [
    {
     "data": {
      "text/plain": [
       "HMO/PHSP              1143804\n",
       "PARTIAL MLTC           503653\n",
       "FEE-FOR-SERVICE        297853\n",
       "HARP                   198933\n",
       "MEDICAID ADVANTAGE      89287\n",
       "PACE                    40856\n",
       "MAP                     40166\n",
       "AIDS SNP                38793\n",
       "FIDA                    24309\n",
       "PARTIAL CAP PLAN        10818\n",
       "FFS PARTIAL CAP          1246\n",
       "SENIOR HMO                201\n",
       "Name: Plan Type, dtype: int64"
      ]
     },
     "execution_count": 13,
     "metadata": {},
     "output_type": "execute_result"
    }
   ],
   "source": [
    "df['Plan Type'].value_counts()"
   ]
  },
  {
   "cell_type": "code",
   "execution_count": 37,
   "id": "9d6a4e88",
   "metadata": {},
   "outputs": [],
   "source": [
    "# Filtering the data\n",
    "\n",
    "years = [2018, 2019, 2020]\n",
    "region = ['Long Island','New York City','Mid-Hudson']\n",
    "filt = df['Eligibility Year'].isin(years) & (df['Economic Region'].isin(region)) & (df['Eligibility Month'] == 12) & (df['Plan Type'] == \"HMO/PHSP\") & (df['Gender'] != 'Unknown')\n",
    "df2 = df.loc[filt]"
   ]
  },
  {
   "cell_type": "code",
   "execution_count": 38,
   "id": "82159aba",
   "metadata": {},
   "outputs": [
    {
     "data": {
      "text/plain": [
       "2018    3097\n",
       "2019    3074\n",
       "2020    3050\n",
       "Name: Eligibility Year, dtype: int64"
      ]
     },
     "execution_count": 38,
     "metadata": {},
     "output_type": "execute_result"
    }
   ],
   "source": [
    "df2['Eligibility Year'].value_counts()"
   ]
  },
  {
   "cell_type": "code",
   "execution_count": 39,
   "id": "ce48b18d",
   "metadata": {},
   "outputs": [
    {
     "data": {
      "text/plain": [
       "Male      4652\n",
       "Female    4569\n",
       "Name: Gender, dtype: int64"
      ]
     },
     "execution_count": 39,
     "metadata": {},
     "output_type": "execute_result"
    }
   ],
   "source": [
    "df2['Gender'].value_counts()"
   ]
  },
  {
   "cell_type": "code",
   "execution_count": 40,
   "id": "1a55b714",
   "metadata": {},
   "outputs": [
    {
     "data": {
      "text/plain": [
       "HMO/PHSP    9221\n",
       "Name: Plan Type, dtype: int64"
      ]
     },
     "execution_count": 40,
     "metadata": {},
     "output_type": "execute_result"
    }
   ],
   "source": [
    "df2['Plan Type'].value_counts()"
   ]
  },
  {
   "cell_type": "code",
   "execution_count": 41,
   "id": "038513f7",
   "metadata": {},
   "outputs": [
    {
     "data": {
      "text/plain": [
       "New York City    3653\n",
       "Mid-Hudson       2834\n",
       "Long Island      2734\n",
       "Name: Economic Region, dtype: int64"
      ]
     },
     "execution_count": 41,
     "metadata": {},
     "output_type": "execute_result"
    }
   ],
   "source": [
    "df2['Economic Region'].value_counts()"
   ]
  },
  {
   "cell_type": "code",
   "execution_count": 42,
   "id": "edcf15ed",
   "metadata": {},
   "outputs": [
    {
     "data": {
      "text/plain": [
       "12    9221\n",
       "Name: Eligibility Month, dtype: int64"
      ]
     },
     "execution_count": 42,
     "metadata": {},
     "output_type": "execute_result"
    }
   ],
   "source": [
    "df2['Eligibility Month'].value_counts()"
   ]
  },
  {
   "cell_type": "markdown",
   "id": "876d6afd",
   "metadata": {},
   "source": [
    "#### *2. Statistics*"
   ]
  },
  {
   "cell_type": "code",
   "execution_count": 43,
   "id": "bcc24530",
   "metadata": {},
   "outputs": [
    {
     "data": {
      "text/plain": [
       "Economic Region  Eligibility Year\n",
       "Long Island      2018                 376377\n",
       "                 2019                 372659\n",
       "                 2020                 452930\n",
       "Mid-Hudson       2018                 390859\n",
       "                 2019                 389926\n",
       "                 2020                 465716\n",
       "New York City    2018                2503273\n",
       "                 2019                2381947\n",
       "                 2020                2782397\n",
       "Name: Number of Recipients, dtype: int64"
      ]
     },
     "execution_count": 43,
     "metadata": {},
     "output_type": "execute_result"
    }
   ],
   "source": [
    "df2.groupby(['Economic Region','Eligibility Year'])['Number of Recipients'].sum()"
   ]
  },
  {
   "cell_type": "code",
   "execution_count": 44,
   "id": "1199a34f",
   "metadata": {},
   "outputs": [
    {
     "data": {
      "text/plain": [
       "Eligibility Year\n",
       "2018    1056.024863\n",
       "2019    1022.944697\n",
       "2020    1213.456721\n",
       "Name: Number of Recipients, dtype: float64"
      ]
     },
     "execution_count": 44,
     "metadata": {},
     "output_type": "execute_result"
    }
   ],
   "source": [
    "df2.groupby(['Eligibility Year'])['Number of Recipients'].mean()"
   ]
  },
  {
   "cell_type": "code",
   "execution_count": 45,
   "id": "3b69d02a",
   "metadata": {},
   "outputs": [
    {
     "data": {
      "text/plain": [
       "Race             Gender  Eligibility Year\n",
       "ASIAN            Female  2018                194903\n",
       "                         2019                183325\n",
       "                         2020                203831\n",
       "                 Male    2018                183146\n",
       "                         2019                171538\n",
       "                         2020                190542\n",
       "BLACK            Female  2018                275031\n",
       "                         2019                253656\n",
       "                         2020                291689\n",
       "                 Male    2018                229719\n",
       "                         2019                213804\n",
       "                         2020                251217\n",
       "HISPANIC         Female  2018                210792\n",
       "                         2019                191865\n",
       "                         2020                204771\n",
       "                 Male    2018                165307\n",
       "                         2019                152528\n",
       "                         2020                163405\n",
       "NATIVE AMERICAN  Female  2018                  1732\n",
       "                         2019                  1550\n",
       "                         2020                  1702\n",
       "                 Male    2018                  1579\n",
       "                         2019                  1407\n",
       "                         2020                  1635\n",
       "OTHER            Female  2018                792282\n",
       "                         2019                789107\n",
       "                         2020                960532\n",
       "                 Male    2018                702632\n",
       "                         2019                699824\n",
       "                         2020                868300\n",
       "WHITE            Female  2018                265650\n",
       "                         2019                250970\n",
       "                         2020                290943\n",
       "                 Male    2018                247736\n",
       "                         2019                234958\n",
       "                         2020                272476\n",
       "Name: Number of Recipients, dtype: int64"
      ]
     },
     "execution_count": 45,
     "metadata": {},
     "output_type": "execute_result"
    }
   ],
   "source": [
    "df2.groupby(['Race','Gender','Eligibility Year'])['Number of Recipients'].sum()"
   ]
  },
  {
   "cell_type": "code",
   "execution_count": 46,
   "id": "6f2e52d0",
   "metadata": {},
   "outputs": [
    {
     "data": {
      "text/plain": [
       "Age Group  Eligibility Year\n",
       "00-20      2018                1551775\n",
       "           2019                1497166\n",
       "           2020                1640447\n",
       "21-44      2018                1012133\n",
       "           2019                 975558\n",
       "           2020                1247989\n",
       "45-64      2018                 650512\n",
       "           2019                 624161\n",
       "           2020                 741145\n",
       "65+        2018                  56089\n",
       "           2019                  47647\n",
       "           2020                  71462\n",
       "Name: Number of Recipients, dtype: int64"
      ]
     },
     "execution_count": 46,
     "metadata": {},
     "output_type": "execute_result"
    }
   ],
   "source": [
    "df2.groupby(['Age Group','Eligibility Year'])['Number of Recipients'].sum()"
   ]
  },
  {
   "cell_type": "code",
   "execution_count": 47,
   "id": "435efd8c",
   "metadata": {},
   "outputs": [
    {
     "data": {
      "text/html": [
       "<div>\n",
       "<style scoped>\n",
       "    .dataframe tbody tr th:only-of-type {\n",
       "        vertical-align: middle;\n",
       "    }\n",
       "\n",
       "    .dataframe tbody tr th {\n",
       "        vertical-align: top;\n",
       "    }\n",
       "\n",
       "    .dataframe thead th {\n",
       "        text-align: right;\n",
       "    }\n",
       "</style>\n",
       "<table border=\"1\" class=\"dataframe\">\n",
       "  <thead>\n",
       "    <tr style=\"text-align: right;\">\n",
       "      <th></th>\n",
       "      <th>Number of Recipients</th>\n",
       "    </tr>\n",
       "    <tr>\n",
       "      <th>Eligibility Year</th>\n",
       "      <th></th>\n",
       "    </tr>\n",
       "  </thead>\n",
       "  <tbody>\n",
       "    <tr>\n",
       "      <th>2018</th>\n",
       "      <td>3270509</td>\n",
       "    </tr>\n",
       "    <tr>\n",
       "      <th>2019</th>\n",
       "      <td>3144532</td>\n",
       "    </tr>\n",
       "    <tr>\n",
       "      <th>2020</th>\n",
       "      <td>3701043</td>\n",
       "    </tr>\n",
       "  </tbody>\n",
       "</table>\n",
       "</div>"
      ],
      "text/plain": [
       "                  Number of Recipients\n",
       "Eligibility Year                      \n",
       "2018                           3270509\n",
       "2019                           3144532\n",
       "2020                           3701043"
      ]
     },
     "execution_count": 47,
     "metadata": {},
     "output_type": "execute_result"
    }
   ],
   "source": [
    "# Pivot table\n",
    "df_pivot = df2.pivot_table(index='Eligibility Year',values='Number of Recipients'\n",
    "                          ,aggfunc='sum')\n",
    "df_pivot"
   ]
  },
  {
   "cell_type": "code",
   "execution_count": 48,
   "id": "29b28758",
   "metadata": {},
   "outputs": [
    {
     "name": "stdout",
     "output_type": "stream",
     "text": [
      "                  Number of Recipients\n",
      "Eligibility Year                      \n",
      "2019                              -4.0\n",
      "2020                              18.0\n"
     ]
    }
   ],
   "source": [
    "# Drop nulls and percent change\n",
    "df3 = np.round(df_pivot.pct_change()*100,0)\n",
    "df3 = df3.dropna()\n",
    "print(df3)"
   ]
  },
  {
   "cell_type": "code",
   "execution_count": 49,
   "id": "16aa574d",
   "metadata": {},
   "outputs": [
    {
     "data": {
      "text/html": [
       "<div>\n",
       "<style scoped>\n",
       "    .dataframe tbody tr th:only-of-type {\n",
       "        vertical-align: middle;\n",
       "    }\n",
       "\n",
       "    .dataframe tbody tr th {\n",
       "        vertical-align: top;\n",
       "    }\n",
       "\n",
       "    .dataframe thead th {\n",
       "        text-align: right;\n",
       "    }\n",
       "</style>\n",
       "<table border=\"1\" class=\"dataframe\">\n",
       "  <thead>\n",
       "    <tr style=\"text-align: right;\">\n",
       "      <th>Gender</th>\n",
       "      <th>Female</th>\n",
       "      <th>Male</th>\n",
       "    </tr>\n",
       "    <tr>\n",
       "      <th>Eligibility Year</th>\n",
       "      <th></th>\n",
       "      <th></th>\n",
       "    </tr>\n",
       "  </thead>\n",
       "  <tbody>\n",
       "    <tr>\n",
       "      <th>2018</th>\n",
       "      <td>1740390</td>\n",
       "      <td>1530119</td>\n",
       "    </tr>\n",
       "    <tr>\n",
       "      <th>2019</th>\n",
       "      <td>1670473</td>\n",
       "      <td>1474059</td>\n",
       "    </tr>\n",
       "    <tr>\n",
       "      <th>2020</th>\n",
       "      <td>1953468</td>\n",
       "      <td>1747575</td>\n",
       "    </tr>\n",
       "  </tbody>\n",
       "</table>\n",
       "</div>"
      ],
      "text/plain": [
       "Gender             Female     Male\n",
       "Eligibility Year                  \n",
       "2018              1740390  1530119\n",
       "2019              1670473  1474059\n",
       "2020              1953468  1747575"
      ]
     },
     "execution_count": 49,
     "metadata": {},
     "output_type": "execute_result"
    }
   ],
   "source": [
    "df_pivot2 = df2.pivot_table(index='Eligibility Year',columns='Gender',values='Number of Recipients'\n",
    "                          ,aggfunc='sum')\n",
    "df_pivot2"
   ]
  },
  {
   "cell_type": "code",
   "execution_count": 50,
   "id": "3165e2d5",
   "metadata": {},
   "outputs": [
    {
     "name": "stdout",
     "output_type": "stream",
     "text": [
      "Gender            Female  Male\n",
      "Eligibility Year              \n",
      "2019                -4.0  -4.0\n",
      "2020                17.0  19.0\n"
     ]
    }
   ],
   "source": [
    "df4 = np.round(df_pivot2.pct_change()*100,0)\n",
    "df4 = df4.dropna()\n",
    "print(df4)"
   ]
  },
  {
   "cell_type": "code",
   "execution_count": 51,
   "id": "9abae56d",
   "metadata": {},
   "outputs": [
    {
     "data": {
      "text/html": [
       "<div>\n",
       "<style scoped>\n",
       "    .dataframe tbody tr th:only-of-type {\n",
       "        vertical-align: middle;\n",
       "    }\n",
       "\n",
       "    .dataframe tbody tr th {\n",
       "        vertical-align: top;\n",
       "    }\n",
       "\n",
       "    .dataframe thead th {\n",
       "        text-align: right;\n",
       "    }\n",
       "</style>\n",
       "<table border=\"1\" class=\"dataframe\">\n",
       "  <thead>\n",
       "    <tr style=\"text-align: right;\">\n",
       "      <th>Race</th>\n",
       "      <th>ASIAN</th>\n",
       "      <th>BLACK</th>\n",
       "      <th>HISPANIC</th>\n",
       "      <th>NATIVE AMERICAN</th>\n",
       "      <th>OTHER</th>\n",
       "      <th>WHITE</th>\n",
       "    </tr>\n",
       "    <tr>\n",
       "      <th>Eligibility Year</th>\n",
       "      <th></th>\n",
       "      <th></th>\n",
       "      <th></th>\n",
       "      <th></th>\n",
       "      <th></th>\n",
       "      <th></th>\n",
       "    </tr>\n",
       "  </thead>\n",
       "  <tbody>\n",
       "    <tr>\n",
       "      <th>2018</th>\n",
       "      <td>378049</td>\n",
       "      <td>504750</td>\n",
       "      <td>376099</td>\n",
       "      <td>3311</td>\n",
       "      <td>1494914</td>\n",
       "      <td>513386</td>\n",
       "    </tr>\n",
       "    <tr>\n",
       "      <th>2019</th>\n",
       "      <td>354863</td>\n",
       "      <td>467460</td>\n",
       "      <td>344393</td>\n",
       "      <td>2957</td>\n",
       "      <td>1488931</td>\n",
       "      <td>485928</td>\n",
       "    </tr>\n",
       "    <tr>\n",
       "      <th>2020</th>\n",
       "      <td>394373</td>\n",
       "      <td>542906</td>\n",
       "      <td>368176</td>\n",
       "      <td>3337</td>\n",
       "      <td>1828832</td>\n",
       "      <td>563419</td>\n",
       "    </tr>\n",
       "  </tbody>\n",
       "</table>\n",
       "</div>"
      ],
      "text/plain": [
       "Race               ASIAN   BLACK  HISPANIC  NATIVE AMERICAN    OTHER   WHITE\n",
       "Eligibility Year                                                            \n",
       "2018              378049  504750    376099             3311  1494914  513386\n",
       "2019              354863  467460    344393             2957  1488931  485928\n",
       "2020              394373  542906    368176             3337  1828832  563419"
      ]
     },
     "execution_count": 51,
     "metadata": {},
     "output_type": "execute_result"
    }
   ],
   "source": [
    "df_pivot3 = df2.pivot_table(index='Eligibility Year',columns='Race',values='Number of Recipients'\n",
    "                          ,aggfunc='sum')\n",
    "df_pivot3"
   ]
  },
  {
   "cell_type": "code",
   "execution_count": 52,
   "id": "eda552e0",
   "metadata": {},
   "outputs": [
    {
     "name": "stdout",
     "output_type": "stream",
     "text": [
      "Race              ASIAN  BLACK  HISPANIC  NATIVE AMERICAN  OTHER  WHITE\n",
      "Eligibility Year                                                       \n",
      "2019               -6.0   -7.0      -8.0            -11.0   -0.0   -5.0\n",
      "2020               11.0   16.0       7.0             13.0   23.0   16.0\n"
     ]
    }
   ],
   "source": [
    "df5 = np.round(df_pivot3.pct_change()*100,0)\n",
    "df5 = df5.dropna()\n",
    "print(df5)"
   ]
  },
  {
   "cell_type": "code",
   "execution_count": 53,
   "id": "03b81bd4",
   "metadata": {},
   "outputs": [
    {
     "data": {
      "text/html": [
       "<div>\n",
       "<style scoped>\n",
       "    .dataframe tbody tr th:only-of-type {\n",
       "        vertical-align: middle;\n",
       "    }\n",
       "\n",
       "    .dataframe tbody tr th {\n",
       "        vertical-align: top;\n",
       "    }\n",
       "\n",
       "    .dataframe thead th {\n",
       "        text-align: right;\n",
       "    }\n",
       "</style>\n",
       "<table border=\"1\" class=\"dataframe\">\n",
       "  <thead>\n",
       "    <tr style=\"text-align: right;\">\n",
       "      <th>Age Group</th>\n",
       "      <th>00-20</th>\n",
       "      <th>21-44</th>\n",
       "      <th>45-64</th>\n",
       "      <th>65+</th>\n",
       "    </tr>\n",
       "    <tr>\n",
       "      <th>Eligibility Year</th>\n",
       "      <th></th>\n",
       "      <th></th>\n",
       "      <th></th>\n",
       "      <th></th>\n",
       "    </tr>\n",
       "  </thead>\n",
       "  <tbody>\n",
       "    <tr>\n",
       "      <th>2018</th>\n",
       "      <td>1551775</td>\n",
       "      <td>1012133</td>\n",
       "      <td>650512</td>\n",
       "      <td>56089</td>\n",
       "    </tr>\n",
       "    <tr>\n",
       "      <th>2019</th>\n",
       "      <td>1497166</td>\n",
       "      <td>975558</td>\n",
       "      <td>624161</td>\n",
       "      <td>47647</td>\n",
       "    </tr>\n",
       "    <tr>\n",
       "      <th>2020</th>\n",
       "      <td>1640447</td>\n",
       "      <td>1247989</td>\n",
       "      <td>741145</td>\n",
       "      <td>71462</td>\n",
       "    </tr>\n",
       "  </tbody>\n",
       "</table>\n",
       "</div>"
      ],
      "text/plain": [
       "Age Group           00-20    21-44   45-64    65+\n",
       "Eligibility Year                                 \n",
       "2018              1551775  1012133  650512  56089\n",
       "2019              1497166   975558  624161  47647\n",
       "2020              1640447  1247989  741145  71462"
      ]
     },
     "execution_count": 53,
     "metadata": {},
     "output_type": "execute_result"
    }
   ],
   "source": [
    "df_pivot4 = df2.pivot_table(index='Eligibility Year',columns='Age Group',values='Number of Recipients'\n",
    "                          ,aggfunc='sum')\n",
    "df_pivot4"
   ]
  },
  {
   "cell_type": "code",
   "execution_count": 54,
   "id": "433061ca",
   "metadata": {},
   "outputs": [
    {
     "name": "stdout",
     "output_type": "stream",
     "text": [
      "Age Group         00-20  21-44  45-64   65+\n",
      "Eligibility Year                           \n",
      "2019               -4.0   -4.0   -4.0 -15.0\n",
      "2020               10.0   28.0   19.0  50.0\n"
     ]
    }
   ],
   "source": [
    "df6=np.round(df_pivot4.pct_change()*100,0)\n",
    "df6=df6.dropna()\n",
    "print(df6)"
   ]
  },
  {
   "cell_type": "markdown",
   "id": "bdfd419a",
   "metadata": {},
   "source": [
    "#### *3. Visualizations*"
   ]
  },
  {
   "cell_type": "code",
   "execution_count": 55,
   "id": "50e72f99",
   "metadata": {},
   "outputs": [
    {
     "data": {
      "text/html": [
       "\n",
       "        <iframe\n",
       "            width=\"100%\"\n",
       "            height=\"500\"\n",
       "            src=\"pivottablejs.html\"\n",
       "            frameborder=\"0\"\n",
       "            allowfullscreen\n",
       "            \n",
       "        ></iframe>\n",
       "        "
      ],
      "text/plain": [
       "<IPython.lib.display.IFrame at 0x7fb5a81bba90>"
      ]
     },
     "execution_count": 55,
     "metadata": {},
     "output_type": "execute_result"
    }
   ],
   "source": [
    "from pivottablejs import pivot_ui\n",
    "\n",
    "pivot_ui(df2)"
   ]
  },
  {
   "cell_type": "code",
   "execution_count": 56,
   "id": "b6e0b8bf",
   "metadata": {},
   "outputs": [
    {
     "data": {
      "text/html": [
       "\n",
       "        <iframe\n",
       "            width=\"100%\"\n",
       "            height=\"500\"\n",
       "            src=\"pivottable_2.html\"\n",
       "            frameborder=\"0\"\n",
       "            allowfullscreen\n",
       "            \n",
       "        ></iframe>\n",
       "        "
      ],
      "text/plain": [
       "<IPython.lib.display.IFrame at 0x7fb5889f5bb0>"
      ]
     },
     "execution_count": 56,
     "metadata": {},
     "output_type": "execute_result"
    }
   ],
   "source": [
    "from IPython.display import HTML\n",
    "\n",
    "pivot_ui(df2, outfile_path='pivottable_2.html')"
   ]
  },
  {
   "cell_type": "code",
   "execution_count": 57,
   "id": "7e28c16a",
   "metadata": {},
   "outputs": [
    {
     "data": {
      "text/html": [
       "\n",
       "        <iframe\n",
       "            width=\"100%\"\n",
       "            height=\"500\"\n",
       "            src=\"pivottable_3.html\"\n",
       "            frameborder=\"0\"\n",
       "            allowfullscreen\n",
       "            \n",
       "        ></iframe>\n",
       "        "
      ],
      "text/plain": [
       "<IPython.lib.display.IFrame at 0x7fb5889e93a0>"
      ]
     },
     "execution_count": 57,
     "metadata": {},
     "output_type": "execute_result"
    }
   ],
   "source": [
    "pivot_ui(df2, outfile_path='pivottable_3.html')"
   ]
  },
  {
   "cell_type": "code",
   "execution_count": 58,
   "id": "bbd989bc",
   "metadata": {},
   "outputs": [
    {
     "data": {
      "text/html": [
       "\n",
       "        <iframe\n",
       "            width=\"100%\"\n",
       "            height=\"500\"\n",
       "            src=\"pivottable_4.html\"\n",
       "            frameborder=\"0\"\n",
       "            allowfullscreen\n",
       "            \n",
       "        ></iframe>\n",
       "        "
      ],
      "text/plain": [
       "<IPython.lib.display.IFrame at 0x7fb5889f5460>"
      ]
     },
     "execution_count": 58,
     "metadata": {},
     "output_type": "execute_result"
    }
   ],
   "source": [
    "pivot_ui(df2, outfile_path='pivottable_4.html')"
   ]
  },
  {
   "cell_type": "markdown",
   "id": "f182f0d6",
   "metadata": {},
   "source": [
    "#### *4. Conclusion*"
   ]
  },
  {
   "cell_type": "markdown",
   "id": "ad2df52f",
   "metadata": {},
   "source": [
    "In summary, the COVID-19 pandemic resulted in an increase in unemployment,\n",
    "which resulted with more people being eligible for Medicaid. In the New York City, \n",
    "Long Island and Mid-Hudson area saw a total increase of 557K (18%) Medicaid enrollees\n",
    "in 2020. This was driven by an increase of 274K (19%) Male enrollees, 272K (28%) \n",
    "enrollees in the age group of 21-44 and 340K (23%) “Other” race.\n"
   ]
  },
  {
   "cell_type": "code",
   "execution_count": null,
   "id": "d984a333",
   "metadata": {},
   "outputs": [],
   "source": []
  }
 ],
 "metadata": {
  "kernelspec": {
   "display_name": "Python 3 (ipykernel)",
   "language": "python",
   "name": "python3"
  },
  "language_info": {
   "codemirror_mode": {
    "name": "ipython",
    "version": 3
   },
   "file_extension": ".py",
   "mimetype": "text/x-python",
   "name": "python",
   "nbconvert_exporter": "python",
   "pygments_lexer": "ipython3",
   "version": "3.9.12"
  }
 },
 "nbformat": 4,
 "nbformat_minor": 5
}
