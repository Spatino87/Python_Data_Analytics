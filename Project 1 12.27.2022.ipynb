{
 "cells": [
  {
   "cell_type": "markdown",
   "id": "b0f714d6",
   "metadata": {},
   "source": [
    "### Project 1 - Student Test Performance\n",
    "\n",
    "#### Outline:\n",
    "##### 1. Data Importing/Cleaning/Filtering\n",
    "##### 2. Statistics\n",
    "##### 3. Visualizations\n",
    "##### 4. Conclusion"
   ]
  },
  {
   "cell_type": "markdown",
   "id": "c2ce0da4",
   "metadata": {},
   "source": [
    "##### 1. Imports"
   ]
  },
  {
   "cell_type": "code",
   "execution_count": 336,
   "id": "b80830f8",
   "metadata": {},
   "outputs": [],
   "source": [
    "import pandas as pd\n",
    "import numpy as np\n",
    "import seaborn as sns\n",
    "import matplotlib.pyplot as plt\n",
    "%matplotlib inline\n",
    "\n",
    "svs = pd.read_csv('https://raw.githubusercontent.com/CunyLaguardiaDataAnalytics/datasets/master/2014-15_To_2016-17_School-_Level_NYC_Regents_Report_For_All_Variables.csv')"
   ]
  },
  {
   "cell_type": "markdown",
   "id": "4324bbd7",
   "metadata": {},
   "source": [
    "#### *1B. Getting to the know the data*"
   ]
  },
  {
   "cell_type": "code",
   "execution_count": 337,
   "id": "e0f5ca26",
   "metadata": {},
   "outputs": [
    {
     "name": "stdout",
     "output_type": "stream",
     "text": [
      "<class 'pandas.core.frame.DataFrame'>\n",
      "RangeIndex: 212331 entries, 0 to 212330\n",
      "Data columns (total 15 columns):\n",
      " #   Column                       Non-Null Count   Dtype \n",
      "---  ------                       --------------   ----- \n",
      " 0   School DBN                   212331 non-null  object\n",
      " 1   School Name                  212331 non-null  object\n",
      " 2   School Level                 212331 non-null  object\n",
      " 3   Regents Exam                 212321 non-null  object\n",
      " 4   Year                         212331 non-null  int64 \n",
      " 5   Total Tested                 212331 non-null  int64 \n",
      " 6   Mean Score                   212331 non-null  object\n",
      " 7   Number Scoring Below 65      212331 non-null  object\n",
      " 8   Percent Scoring Below 65     212331 non-null  object\n",
      " 9   Number Scoring 65 or Above   212331 non-null  object\n",
      " 10  Percent Scoring 65 or Above  212331 non-null  object\n",
      " 11  Number Scoring 80 or Above   212331 non-null  object\n",
      " 12  Percent Scoring 80 or Above  212331 non-null  object\n",
      " 13  Number Scoring CR            212331 non-null  object\n",
      " 14  Percent Scoring CR           212331 non-null  object\n",
      "dtypes: int64(2), object(13)\n",
      "memory usage: 24.3+ MB\n"
     ]
    }
   ],
   "source": [
    "\"\"\"\n",
    "The info() function tells us the number of columns, labels, data types, memory usage, range index\n",
    "and the number of cells in each column that are non-null values.\n",
    "\"\"\"\n",
    "\n",
    "svs.info()"
   ]
  },
  {
   "cell_type": "code",
   "execution_count": 338,
   "id": "f7494945",
   "metadata": {},
   "outputs": [
    {
     "data": {
      "text/html": [
       "<div>\n",
       "<style scoped>\n",
       "    .dataframe tbody tr th:only-of-type {\n",
       "        vertical-align: middle;\n",
       "    }\n",
       "\n",
       "    .dataframe tbody tr th {\n",
       "        vertical-align: top;\n",
       "    }\n",
       "\n",
       "    .dataframe thead th {\n",
       "        text-align: right;\n",
       "    }\n",
       "</style>\n",
       "<table border=\"1\" class=\"dataframe\">\n",
       "  <thead>\n",
       "    <tr style=\"text-align: right;\">\n",
       "      <th></th>\n",
       "      <th>School DBN</th>\n",
       "      <th>School Name</th>\n",
       "      <th>School Level</th>\n",
       "      <th>Regents Exam</th>\n",
       "      <th>Year</th>\n",
       "      <th>Total Tested</th>\n",
       "      <th>Mean Score</th>\n",
       "      <th>Number Scoring Below 65</th>\n",
       "      <th>Percent Scoring Below 65</th>\n",
       "      <th>Number Scoring 65 or Above</th>\n",
       "      <th>Percent Scoring 65 or Above</th>\n",
       "      <th>Number Scoring 80 or Above</th>\n",
       "      <th>Percent Scoring 80 or Above</th>\n",
       "      <th>Number Scoring CR</th>\n",
       "      <th>Percent Scoring CR</th>\n",
       "    </tr>\n",
       "  </thead>\n",
       "  <tbody>\n",
       "    <tr>\n",
       "      <th>0</th>\n",
       "      <td>01M034</td>\n",
       "      <td>P.S. 034 Franklin D. Roosevelt</td>\n",
       "      <td>K-8</td>\n",
       "      <td>Common Core Algebra</td>\n",
       "      <td>2017</td>\n",
       "      <td>4</td>\n",
       "      <td>s</td>\n",
       "      <td>s</td>\n",
       "      <td>s</td>\n",
       "      <td>s</td>\n",
       "      <td>s</td>\n",
       "      <td>s</td>\n",
       "      <td>s</td>\n",
       "      <td>na</td>\n",
       "      <td>na</td>\n",
       "    </tr>\n",
       "    <tr>\n",
       "      <th>1</th>\n",
       "      <td>01M034</td>\n",
       "      <td>P.S. 034 Franklin D. Roosevelt</td>\n",
       "      <td>K-8</td>\n",
       "      <td>Living Environment</td>\n",
       "      <td>2015</td>\n",
       "      <td>16</td>\n",
       "      <td>77.9</td>\n",
       "      <td>1</td>\n",
       "      <td>6.3</td>\n",
       "      <td>15</td>\n",
       "      <td>93.8</td>\n",
       "      <td>7</td>\n",
       "      <td>43.8</td>\n",
       "      <td>na</td>\n",
       "      <td>na</td>\n",
       "    </tr>\n",
       "    <tr>\n",
       "      <th>2</th>\n",
       "      <td>01M034</td>\n",
       "      <td>P.S. 034 Franklin D. Roosevelt</td>\n",
       "      <td>K-8</td>\n",
       "      <td>Living Environment</td>\n",
       "      <td>2016</td>\n",
       "      <td>9</td>\n",
       "      <td>74</td>\n",
       "      <td>1</td>\n",
       "      <td>11.1</td>\n",
       "      <td>8</td>\n",
       "      <td>88.9</td>\n",
       "      <td>2</td>\n",
       "      <td>22.2</td>\n",
       "      <td>na</td>\n",
       "      <td>na</td>\n",
       "    </tr>\n",
       "    <tr>\n",
       "      <th>3</th>\n",
       "      <td>01M140</td>\n",
       "      <td>P.S. 140 Nathan Straus</td>\n",
       "      <td>K-8</td>\n",
       "      <td>Common Core Algebra</td>\n",
       "      <td>2016</td>\n",
       "      <td>3</td>\n",
       "      <td>s</td>\n",
       "      <td>s</td>\n",
       "      <td>s</td>\n",
       "      <td>s</td>\n",
       "      <td>s</td>\n",
       "      <td>s</td>\n",
       "      <td>s</td>\n",
       "      <td>na</td>\n",
       "      <td>na</td>\n",
       "    </tr>\n",
       "    <tr>\n",
       "      <th>4</th>\n",
       "      <td>01M140</td>\n",
       "      <td>P.S. 140 Nathan Straus</td>\n",
       "      <td>K-8</td>\n",
       "      <td>Common Core Algebra</td>\n",
       "      <td>2017</td>\n",
       "      <td>2</td>\n",
       "      <td>s</td>\n",
       "      <td>s</td>\n",
       "      <td>s</td>\n",
       "      <td>s</td>\n",
       "      <td>s</td>\n",
       "      <td>s</td>\n",
       "      <td>s</td>\n",
       "      <td>na</td>\n",
       "      <td>na</td>\n",
       "    </tr>\n",
       "  </tbody>\n",
       "</table>\n",
       "</div>"
      ],
      "text/plain": [
       "  School DBN                     School Name School Level  \\\n",
       "0     01M034  P.S. 034 Franklin D. Roosevelt          K-8   \n",
       "1     01M034  P.S. 034 Franklin D. Roosevelt          K-8   \n",
       "2     01M034  P.S. 034 Franklin D. Roosevelt          K-8   \n",
       "3     01M140          P.S. 140 Nathan Straus          K-8   \n",
       "4     01M140          P.S. 140 Nathan Straus          K-8   \n",
       "\n",
       "          Regents Exam  Year  Total Tested Mean Score Number Scoring Below 65  \\\n",
       "0  Common Core Algebra  2017             4          s                       s   \n",
       "1   Living Environment  2015            16       77.9                       1   \n",
       "2   Living Environment  2016             9         74                       1   \n",
       "3  Common Core Algebra  2016             3          s                       s   \n",
       "4  Common Core Algebra  2017             2          s                       s   \n",
       "\n",
       "  Percent Scoring Below 65 Number Scoring 65 or Above  \\\n",
       "0                        s                          s   \n",
       "1                      6.3                         15   \n",
       "2                     11.1                          8   \n",
       "3                        s                          s   \n",
       "4                        s                          s   \n",
       "\n",
       "  Percent Scoring 65 or Above Number Scoring 80 or Above  \\\n",
       "0                           s                          s   \n",
       "1                        93.8                          7   \n",
       "2                        88.9                          2   \n",
       "3                           s                          s   \n",
       "4                           s                          s   \n",
       "\n",
       "  Percent Scoring 80 or Above Number Scoring CR Percent Scoring CR  \n",
       "0                           s                na                 na  \n",
       "1                        43.8                na                 na  \n",
       "2                        22.2                na                 na  \n",
       "3                           s                na                 na  \n",
       "4                           s                na                 na  "
      ]
     },
     "execution_count": 338,
     "metadata": {},
     "output_type": "execute_result"
    }
   ],
   "source": [
    "# The head() function shows us the first five rows of the dataframe.\n",
    "\n",
    "svs.head()"
   ]
  },
  {
   "cell_type": "code",
   "execution_count": 339,
   "id": "d1befcef",
   "metadata": {},
   "outputs": [
    {
     "data": {
      "text/plain": [
       "10"
      ]
     },
     "execution_count": 339,
     "metadata": {},
     "output_type": "execute_result"
    }
   ],
   "source": [
    "# Returns the number of missing values in the dataframe.\n",
    "\n",
    "svs.isnull().sum().sum()"
   ]
  },
  {
   "cell_type": "code",
   "execution_count": 340,
   "id": "21eded70",
   "metadata": {},
   "outputs": [
    {
     "data": {
      "text/plain": [
       "School DBN                      0\n",
       "School Name                     0\n",
       "School Level                    0\n",
       "Regents Exam                   10\n",
       "Year                            0\n",
       "Total Tested                    0\n",
       "Mean Score                      0\n",
       "Number Scoring Below 65         0\n",
       "Percent Scoring Below 65        0\n",
       "Number Scoring 65 or Above      0\n",
       "Percent Scoring 65 or Above     0\n",
       "Number Scoring 80 or Above      0\n",
       "Percent Scoring 80 or Above     0\n",
       "Number Scoring CR               0\n",
       "Percent Scoring CR              0\n",
       "dtype: int64"
      ]
     },
     "execution_count": 340,
     "metadata": {},
     "output_type": "execute_result"
    }
   ],
   "source": [
    "# Return the number of missing values in the dataframe by column.\n",
    "\n",
    "svs.isnull().sum()"
   ]
  },
  {
   "cell_type": "code",
   "execution_count": 341,
   "id": "6e3da508",
   "metadata": {},
   "outputs": [
    {
     "data": {
      "text/plain": [
       "2016    76123\n",
       "2015    72768\n",
       "2017    63440\n",
       "Name: Year, dtype: int64"
      ]
     },
     "execution_count": 341,
     "metadata": {},
     "output_type": "execute_result"
    }
   ],
   "source": [
    "# value_counts() function returns the count of unique entries in the column.\n",
    "\n",
    "svs['Year'].value_counts()"
   ]
  },
  {
   "cell_type": "code",
   "execution_count": 342,
   "id": "a585f8d5",
   "metadata": {},
   "outputs": [
    {
     "data": {
      "text/plain": [
       "Common Core Algebra                29254\n",
       "Living Environment                 25539\n",
       "U.S. History and Government        20426\n",
       "Common Core English                19878\n",
       "Global History and Geography       19192\n",
       "Physical Settings/Earth Science    15971\n",
       "Common Core Geometry               15267\n",
       "Physical Settings/Chemistry        11670\n",
       "English                            11091\n",
       "Integrated Algebra                 11022\n",
       "Algebra2/Trigonometry              10788\n",
       "Geometry                            8509\n",
       "Common Core Algebra2                7915\n",
       "Physical Settings/Physics           5799\n",
       "Name: Regents Exam, dtype: int64"
      ]
     },
     "execution_count": 342,
     "metadata": {},
     "output_type": "execute_result"
    }
   ],
   "source": [
    "svs['Regents Exam'].value_counts()"
   ]
  },
  {
   "cell_type": "markdown",
   "id": "e17235ae",
   "metadata": {},
   "source": [
    "#### *1C. Data Cleaning*"
   ]
  },
  {
   "cell_type": "code",
   "execution_count": 343,
   "id": "1e55492c",
   "metadata": {},
   "outputs": [],
   "source": [
    "# Replace all standard missing values (10) in the column \"Regents Exam\" and labels it as \"Data Issue\".\n",
    "\n",
    "svs['Regents Exam'].fillna('Data Issue', inplace=True)"
   ]
  },
  {
   "cell_type": "code",
   "execution_count": 371,
   "id": "74fe1128",
   "metadata": {},
   "outputs": [
    {
     "data": {
      "text/plain": [
       "Common Core Algebra                29254\n",
       "Living Environment                 25539\n",
       "U.S. History and Government        20426\n",
       "Common Core English                19878\n",
       "Global History and Geography       19192\n",
       "Physical Settings/Earth Science    15971\n",
       "Common Core Geometry               15267\n",
       "Physical Settings/Chemistry        11670\n",
       "English                            11091\n",
       "Integrated Algebra                 11022\n",
       "Algebra2/Trigonometry              10788\n",
       "Geometry                            8509\n",
       "Common Core Algebra2                7915\n",
       "Physical Settings/Physics           5799\n",
       "Data Issue                            10\n",
       "Name: Regents Exam, dtype: int64"
      ]
     },
     "execution_count": 371,
     "metadata": {},
     "output_type": "execute_result"
    }
   ],
   "source": [
    "# Check to see if the above piece of code worked.\n",
    "\n",
    "svs['Regents Exam'].value_counts()"
   ]
  },
  {
   "cell_type": "code",
   "execution_count": 345,
   "id": "25c91308",
   "metadata": {},
   "outputs": [
    {
     "data": {
      "text/plain": [
       "0            s\n",
       "1         77.9\n",
       "2           74\n",
       "3            s\n",
       "4            s\n",
       "          ... \n",
       "212326       s\n",
       "212327       s\n",
       "212328       s\n",
       "212329       s\n",
       "212330       s\n",
       "Name: Mean Score, Length: 212331, dtype: object"
      ]
     },
     "execution_count": 345,
     "metadata": {},
     "output_type": "execute_result"
    }
   ],
   "source": [
    "# Datatype for \"Mean Score\" looks like it should be numeric.\n",
    "\n",
    "svs['Mean Score']"
   ]
  },
  {
   "cell_type": "code",
   "execution_count": 346,
   "id": "846423c3",
   "metadata": {},
   "outputs": [],
   "source": [
    "# Convert column \"Mean Score\" to a float datatype.\n",
    "\n",
    "svs['Mean Score'] = pd.to_numeric(svs['Mean Score'], errors='coerce')"
   ]
  },
  {
   "cell_type": "code",
   "execution_count": 347,
   "id": "94182c81",
   "metadata": {},
   "outputs": [
    {
     "data": {
      "text/plain": [
       "0          NaN\n",
       "1         77.9\n",
       "2         74.0\n",
       "3          NaN\n",
       "4          NaN\n",
       "          ... \n",
       "212326     NaN\n",
       "212327     NaN\n",
       "212328     NaN\n",
       "212329     NaN\n",
       "212330     NaN\n",
       "Name: Mean Score, Length: 212331, dtype: float64"
      ]
     },
     "execution_count": 347,
     "metadata": {},
     "output_type": "execute_result"
    }
   ],
   "source": [
    "svs['Mean Score']"
   ]
  },
  {
   "cell_type": "code",
   "execution_count": 348,
   "id": "1fc5cfb7",
   "metadata": {},
   "outputs": [],
   "source": [
    "# Replace the NaN (Not a Number) cells with 0.0\n",
    "\n",
    "svs['Mean Score'].fillna(0.0, inplace=True)"
   ]
  },
  {
   "cell_type": "code",
   "execution_count": 349,
   "id": "3f3b3f0c",
   "metadata": {},
   "outputs": [
    {
     "data": {
      "text/plain": [
       "0          0.0\n",
       "1         77.9\n",
       "2         74.0\n",
       "3          0.0\n",
       "4          0.0\n",
       "          ... \n",
       "212326     0.0\n",
       "212327     0.0\n",
       "212328     0.0\n",
       "212329     0.0\n",
       "212330     0.0\n",
       "Name: Mean Score, Length: 212331, dtype: float64"
      ]
     },
     "execution_count": 349,
     "metadata": {},
     "output_type": "execute_result"
    }
   ],
   "source": [
    "svs['Mean Score']"
   ]
  },
  {
   "cell_type": "code",
   "execution_count": 350,
   "id": "920a505f",
   "metadata": {},
   "outputs": [
    {
     "data": {
      "text/plain": [
       "Index(['School DBN', 'School Name', 'School Level', 'Regents Exam', 'Year',\n",
       "       'Total Tested', 'Mean Score', 'Number Scoring Below 65',\n",
       "       'Percent Scoring Below 65', 'Number Scoring 65 or Above',\n",
       "       'Percent Scoring 65 or Above', 'Number Scoring 80 or Above',\n",
       "       'Percent Scoring 80 or Above', 'Number Scoring CR',\n",
       "       'Percent Scoring CR'],\n",
       "      dtype='object')"
      ]
     },
     "execution_count": 350,
     "metadata": {},
     "output_type": "execute_result"
    }
   ],
   "source": [
    "svs.columns"
   ]
  },
  {
   "cell_type": "code",
   "execution_count": 351,
   "id": "33f62e5c",
   "metadata": {},
   "outputs": [],
   "source": [
    "# Renaming columns and saving it in a new dataframe\n",
    "\n",
    "svs2 = svs.rename(columns={ 'Year' : 'School Year','Total Tested': '# of Students Tested', 'Mean Score':'Average Score'})"
   ]
  },
  {
   "cell_type": "code",
   "execution_count": 352,
   "id": "392f834a",
   "metadata": {},
   "outputs": [
    {
     "data": {
      "text/plain": [
       "Index(['School DBN', 'School Name', 'School Level', 'Regents Exam',\n",
       "       'School Year', '# of Students Tested', 'Average Score',\n",
       "       'Number Scoring Below 65', 'Percent Scoring Below 65',\n",
       "       'Number Scoring 65 or Above', 'Percent Scoring 65 or Above',\n",
       "       'Number Scoring 80 or Above', 'Percent Scoring 80 or Above',\n",
       "       'Number Scoring CR', 'Percent Scoring CR'],\n",
       "      dtype='object')"
      ]
     },
     "execution_count": 352,
     "metadata": {},
     "output_type": "execute_result"
    }
   ],
   "source": [
    "svs2.columns"
   ]
  },
  {
   "cell_type": "code",
   "execution_count": 353,
   "id": "19a34f4e",
   "metadata": {},
   "outputs": [],
   "source": [
    "# Drops columns not needed for this analysis \n",
    "\n",
    "drop_cols = ['Number Scoring Below 65', 'Percent Scoring Below 65',\n",
    "            'Number Scoring 65 or Above', 'Percent Scoring 65 or Above',\n",
    "            'Number Scoring 80 or Above', 'Percent Scoring 80 or Above',\n",
    "            'Number Scoring CR', 'Percent Scoring CR']\n",
    "svs2.drop(drop_cols, inplace = True, axis=1)"
   ]
  },
  {
   "cell_type": "code",
   "execution_count": 354,
   "id": "98ef6c0d",
   "metadata": {},
   "outputs": [
    {
     "data": {
      "text/plain": [
       "Index(['School DBN', 'School Name', 'School Level', 'Regents Exam',\n",
       "       'School Year', '# of Students Tested', 'Average Score'],\n",
       "      dtype='object')"
      ]
     },
     "execution_count": 354,
     "metadata": {},
     "output_type": "execute_result"
    }
   ],
   "source": [
    "svs2.columns"
   ]
  },
  {
   "cell_type": "markdown",
   "id": "ba85d27a",
   "metadata": {},
   "source": [
    "#### *1D. Data Filtering*"
   ]
  },
  {
   "cell_type": "code",
   "execution_count": 355,
   "id": "5ddd7ae6",
   "metadata": {},
   "outputs": [
    {
     "data": {
      "text/html": [
       "<div>\n",
       "<style scoped>\n",
       "    .dataframe tbody tr th:only-of-type {\n",
       "        vertical-align: middle;\n",
       "    }\n",
       "\n",
       "    .dataframe tbody tr th {\n",
       "        vertical-align: top;\n",
       "    }\n",
       "\n",
       "    .dataframe thead th {\n",
       "        text-align: right;\n",
       "    }\n",
       "</style>\n",
       "<table border=\"1\" class=\"dataframe\">\n",
       "  <thead>\n",
       "    <tr style=\"text-align: right;\">\n",
       "      <th></th>\n",
       "      <th>School DBN</th>\n",
       "      <th>School Name</th>\n",
       "      <th>School Level</th>\n",
       "      <th>Regents Exam</th>\n",
       "      <th>School Year</th>\n",
       "      <th># of Students Tested</th>\n",
       "      <th>Average Score</th>\n",
       "    </tr>\n",
       "  </thead>\n",
       "  <tbody>\n",
       "    <tr>\n",
       "      <th>14511</th>\n",
       "      <td>26Q415</td>\n",
       "      <td>Benjamin N. Cardozo High School</td>\n",
       "      <td>High school</td>\n",
       "      <td>Algebra2/Trigonometry</td>\n",
       "      <td>2015</td>\n",
       "      <td>644</td>\n",
       "      <td>67.0</td>\n",
       "    </tr>\n",
       "    <tr>\n",
       "      <th>14512</th>\n",
       "      <td>26Q415</td>\n",
       "      <td>Benjamin N. Cardozo High School</td>\n",
       "      <td>High school</td>\n",
       "      <td>Algebra2/Trigonometry</td>\n",
       "      <td>2016</td>\n",
       "      <td>628</td>\n",
       "      <td>67.9</td>\n",
       "    </tr>\n",
       "    <tr>\n",
       "      <th>14513</th>\n",
       "      <td>26Q415</td>\n",
       "      <td>Benjamin N. Cardozo High School</td>\n",
       "      <td>High school</td>\n",
       "      <td>Algebra2/Trigonometry</td>\n",
       "      <td>2017</td>\n",
       "      <td>49</td>\n",
       "      <td>48.3</td>\n",
       "    </tr>\n",
       "    <tr>\n",
       "      <th>14514</th>\n",
       "      <td>26Q415</td>\n",
       "      <td>Benjamin N. Cardozo High School</td>\n",
       "      <td>High school</td>\n",
       "      <td>Common Core Algebra</td>\n",
       "      <td>2015</td>\n",
       "      <td>458</td>\n",
       "      <td>64.3</td>\n",
       "    </tr>\n",
       "    <tr>\n",
       "      <th>14515</th>\n",
       "      <td>26Q415</td>\n",
       "      <td>Benjamin N. Cardozo High School</td>\n",
       "      <td>High school</td>\n",
       "      <td>Common Core Algebra</td>\n",
       "      <td>2016</td>\n",
       "      <td>837</td>\n",
       "      <td>71.2</td>\n",
       "    </tr>\n",
       "    <tr>\n",
       "      <th>...</th>\n",
       "      <td>...</td>\n",
       "      <td>...</td>\n",
       "      <td>...</td>\n",
       "      <td>...</td>\n",
       "      <td>...</td>\n",
       "      <td>...</td>\n",
       "      <td>...</td>\n",
       "    </tr>\n",
       "    <tr>\n",
       "      <th>194043</th>\n",
       "      <td>26Q415</td>\n",
       "      <td>Benjamin N. Cardozo High School</td>\n",
       "      <td>High school</td>\n",
       "      <td>U.S. History and Government</td>\n",
       "      <td>2017</td>\n",
       "      <td>379</td>\n",
       "      <td>85.7</td>\n",
       "    </tr>\n",
       "    <tr>\n",
       "      <th>194044</th>\n",
       "      <td>26Q415</td>\n",
       "      <td>Benjamin N. Cardozo High School</td>\n",
       "      <td>High school</td>\n",
       "      <td>U.S. History and Government</td>\n",
       "      <td>2017</td>\n",
       "      <td>165</td>\n",
       "      <td>79.4</td>\n",
       "    </tr>\n",
       "    <tr>\n",
       "      <th>194045</th>\n",
       "      <td>26Q415</td>\n",
       "      <td>Benjamin N. Cardozo High School</td>\n",
       "      <td>High school</td>\n",
       "      <td>U.S. History and Government</td>\n",
       "      <td>2017</td>\n",
       "      <td>164</td>\n",
       "      <td>79.0</td>\n",
       "    </tr>\n",
       "    <tr>\n",
       "      <th>194046</th>\n",
       "      <td>26Q415</td>\n",
       "      <td>Benjamin N. Cardozo High School</td>\n",
       "      <td>High school</td>\n",
       "      <td>U.S. History and Government</td>\n",
       "      <td>2017</td>\n",
       "      <td>8</td>\n",
       "      <td>85.8</td>\n",
       "    </tr>\n",
       "    <tr>\n",
       "      <th>194047</th>\n",
       "      <td>26Q415</td>\n",
       "      <td>Benjamin N. Cardozo High School</td>\n",
       "      <td>High school</td>\n",
       "      <td>U.S. History and Government</td>\n",
       "      <td>2017</td>\n",
       "      <td>117</td>\n",
       "      <td>84.1</td>\n",
       "    </tr>\n",
       "  </tbody>\n",
       "</table>\n",
       "<p>486 rows × 7 columns</p>\n",
       "</div>"
      ],
      "text/plain": [
       "       School DBN                      School Name School Level  \\\n",
       "14511      26Q415  Benjamin N. Cardozo High School  High school   \n",
       "14512      26Q415  Benjamin N. Cardozo High School  High school   \n",
       "14513      26Q415  Benjamin N. Cardozo High School  High school   \n",
       "14514      26Q415  Benjamin N. Cardozo High School  High school   \n",
       "14515      26Q415  Benjamin N. Cardozo High School  High school   \n",
       "...           ...                              ...          ...   \n",
       "194043     26Q415  Benjamin N. Cardozo High School  High school   \n",
       "194044     26Q415  Benjamin N. Cardozo High School  High school   \n",
       "194045     26Q415  Benjamin N. Cardozo High School  High school   \n",
       "194046     26Q415  Benjamin N. Cardozo High School  High school   \n",
       "194047     26Q415  Benjamin N. Cardozo High School  High school   \n",
       "\n",
       "                       Regents Exam  School Year  # of Students Tested  \\\n",
       "14511         Algebra2/Trigonometry         2015                   644   \n",
       "14512         Algebra2/Trigonometry         2016                   628   \n",
       "14513         Algebra2/Trigonometry         2017                    49   \n",
       "14514           Common Core Algebra         2015                   458   \n",
       "14515           Common Core Algebra         2016                   837   \n",
       "...                             ...          ...                   ...   \n",
       "194043  U.S. History and Government         2017                   379   \n",
       "194044  U.S. History and Government         2017                   165   \n",
       "194045  U.S. History and Government         2017                   164   \n",
       "194046  U.S. History and Government         2017                     8   \n",
       "194047  U.S. History and Government         2017                   117   \n",
       "\n",
       "        Average Score  \n",
       "14511            67.0  \n",
       "14512            67.9  \n",
       "14513            48.3  \n",
       "14514            64.3  \n",
       "14515            71.2  \n",
       "...               ...  \n",
       "194043           85.7  \n",
       "194044           79.4  \n",
       "194045           79.0  \n",
       "194046           85.8  \n",
       "194047           84.1  \n",
       "\n",
       "[486 rows x 7 columns]"
      ]
     },
     "execution_count": 355,
     "metadata": {},
     "output_type": "execute_result"
    }
   ],
   "source": [
    "# fuzzy matching\n",
    "\n",
    "svs2[svs2['School Name'].str.contains('Cardozo')]"
   ]
  },
  {
   "cell_type": "code",
   "execution_count": 356,
   "id": "9c2b2552",
   "metadata": {},
   "outputs": [
    {
     "data": {
      "text/html": [
       "<div>\n",
       "<style scoped>\n",
       "    .dataframe tbody tr th:only-of-type {\n",
       "        vertical-align: middle;\n",
       "    }\n",
       "\n",
       "    .dataframe tbody tr th {\n",
       "        vertical-align: top;\n",
       "    }\n",
       "\n",
       "    .dataframe thead th {\n",
       "        text-align: right;\n",
       "    }\n",
       "</style>\n",
       "<table border=\"1\" class=\"dataframe\">\n",
       "  <thead>\n",
       "    <tr style=\"text-align: right;\">\n",
       "      <th></th>\n",
       "      <th>School DBN</th>\n",
       "      <th>School Name</th>\n",
       "      <th>School Level</th>\n",
       "      <th>Regents Exam</th>\n",
       "      <th>School Year</th>\n",
       "      <th># of Students Tested</th>\n",
       "      <th>Average Score</th>\n",
       "    </tr>\n",
       "  </thead>\n",
       "  <tbody>\n",
       "    <tr>\n",
       "      <th>14549</th>\n",
       "      <td>26Q430</td>\n",
       "      <td>Francis Lewis High School</td>\n",
       "      <td>High school</td>\n",
       "      <td>Algebra2/Trigonometry</td>\n",
       "      <td>2015</td>\n",
       "      <td>845</td>\n",
       "      <td>77.8</td>\n",
       "    </tr>\n",
       "    <tr>\n",
       "      <th>14550</th>\n",
       "      <td>26Q430</td>\n",
       "      <td>Francis Lewis High School</td>\n",
       "      <td>High school</td>\n",
       "      <td>Algebra2/Trigonometry</td>\n",
       "      <td>2016</td>\n",
       "      <td>889</td>\n",
       "      <td>76.7</td>\n",
       "    </tr>\n",
       "    <tr>\n",
       "      <th>14551</th>\n",
       "      <td>26Q430</td>\n",
       "      <td>Francis Lewis High School</td>\n",
       "      <td>High school</td>\n",
       "      <td>Algebra2/Trigonometry</td>\n",
       "      <td>2017</td>\n",
       "      <td>19</td>\n",
       "      <td>59.8</td>\n",
       "    </tr>\n",
       "    <tr>\n",
       "      <th>14552</th>\n",
       "      <td>26Q430</td>\n",
       "      <td>Francis Lewis High School</td>\n",
       "      <td>High school</td>\n",
       "      <td>Common Core Algebra</td>\n",
       "      <td>2015</td>\n",
       "      <td>541</td>\n",
       "      <td>67.1</td>\n",
       "    </tr>\n",
       "    <tr>\n",
       "      <th>14553</th>\n",
       "      <td>26Q430</td>\n",
       "      <td>Francis Lewis High School</td>\n",
       "      <td>High school</td>\n",
       "      <td>Common Core Algebra</td>\n",
       "      <td>2016</td>\n",
       "      <td>900</td>\n",
       "      <td>77.8</td>\n",
       "    </tr>\n",
       "    <tr>\n",
       "      <th>...</th>\n",
       "      <td>...</td>\n",
       "      <td>...</td>\n",
       "      <td>...</td>\n",
       "      <td>...</td>\n",
       "      <td>...</td>\n",
       "      <td>...</td>\n",
       "      <td>...</td>\n",
       "    </tr>\n",
       "    <tr>\n",
       "      <th>194228</th>\n",
       "      <td>26Q430</td>\n",
       "      <td>Francis Lewis High School</td>\n",
       "      <td>High school</td>\n",
       "      <td>U.S. History and Government</td>\n",
       "      <td>2017</td>\n",
       "      <td>670</td>\n",
       "      <td>85.7</td>\n",
       "    </tr>\n",
       "    <tr>\n",
       "      <th>194229</th>\n",
       "      <td>26Q430</td>\n",
       "      <td>Francis Lewis High School</td>\n",
       "      <td>High school</td>\n",
       "      <td>U.S. History and Government</td>\n",
       "      <td>2017</td>\n",
       "      <td>64</td>\n",
       "      <td>78.7</td>\n",
       "    </tr>\n",
       "    <tr>\n",
       "      <th>194230</th>\n",
       "      <td>26Q430</td>\n",
       "      <td>Francis Lewis High School</td>\n",
       "      <td>High school</td>\n",
       "      <td>U.S. History and Government</td>\n",
       "      <td>2017</td>\n",
       "      <td>225</td>\n",
       "      <td>77.4</td>\n",
       "    </tr>\n",
       "    <tr>\n",
       "      <th>194231</th>\n",
       "      <td>26Q430</td>\n",
       "      <td>Francis Lewis High School</td>\n",
       "      <td>High school</td>\n",
       "      <td>U.S. History and Government</td>\n",
       "      <td>2017</td>\n",
       "      <td>9</td>\n",
       "      <td>92.3</td>\n",
       "    </tr>\n",
       "    <tr>\n",
       "      <th>194232</th>\n",
       "      <td>26Q430</td>\n",
       "      <td>Francis Lewis High School</td>\n",
       "      <td>High school</td>\n",
       "      <td>U.S. History and Government</td>\n",
       "      <td>2017</td>\n",
       "      <td>181</td>\n",
       "      <td>85.6</td>\n",
       "    </tr>\n",
       "  </tbody>\n",
       "</table>\n",
       "<p>490 rows × 7 columns</p>\n",
       "</div>"
      ],
      "text/plain": [
       "       School DBN                School Name School Level  \\\n",
       "14549      26Q430  Francis Lewis High School  High school   \n",
       "14550      26Q430  Francis Lewis High School  High school   \n",
       "14551      26Q430  Francis Lewis High School  High school   \n",
       "14552      26Q430  Francis Lewis High School  High school   \n",
       "14553      26Q430  Francis Lewis High School  High school   \n",
       "...           ...                        ...          ...   \n",
       "194228     26Q430  Francis Lewis High School  High school   \n",
       "194229     26Q430  Francis Lewis High School  High school   \n",
       "194230     26Q430  Francis Lewis High School  High school   \n",
       "194231     26Q430  Francis Lewis High School  High school   \n",
       "194232     26Q430  Francis Lewis High School  High school   \n",
       "\n",
       "                       Regents Exam  School Year  # of Students Tested  \\\n",
       "14549         Algebra2/Trigonometry         2015                   845   \n",
       "14550         Algebra2/Trigonometry         2016                   889   \n",
       "14551         Algebra2/Trigonometry         2017                    19   \n",
       "14552           Common Core Algebra         2015                   541   \n",
       "14553           Common Core Algebra         2016                   900   \n",
       "...                             ...          ...                   ...   \n",
       "194228  U.S. History and Government         2017                   670   \n",
       "194229  U.S. History and Government         2017                    64   \n",
       "194230  U.S. History and Government         2017                   225   \n",
       "194231  U.S. History and Government         2017                     9   \n",
       "194232  U.S. History and Government         2017                   181   \n",
       "\n",
       "        Average Score  \n",
       "14549            77.8  \n",
       "14550            76.7  \n",
       "14551            59.8  \n",
       "14552            67.1  \n",
       "14553            77.8  \n",
       "...               ...  \n",
       "194228           85.7  \n",
       "194229           78.7  \n",
       "194230           77.4  \n",
       "194231           92.3  \n",
       "194232           85.6  \n",
       "\n",
       "[490 rows x 7 columns]"
      ]
     },
     "execution_count": 356,
     "metadata": {},
     "output_type": "execute_result"
    }
   ],
   "source": [
    "svs2[svs2['School Name'].str.contains('Francis Lewis High School')]"
   ]
  },
  {
   "cell_type": "code",
   "execution_count": 357,
   "id": "7414dd11",
   "metadata": {},
   "outputs": [],
   "source": [
    "# Make a list of the schools wanted in the filter results\n",
    "schools = ['Benjamin N. Cardozo High School','Francis Lewis High School']\n",
    "\n",
    "# Assign the return series to a variable named 'filt' (short for filter)\n",
    "# .isin() allows to plug in the above list \n",
    "filt = svs2['School Name'].isin(schools) & (svs2['Regents Exam'] == 'U.S. History and Government')"
   ]
  },
  {
   "cell_type": "code",
   "execution_count": 358,
   "id": "8dd415dd",
   "metadata": {},
   "outputs": [],
   "source": [
    "# Create a new dataframe after applying the filter to the dataframe\n",
    "\n",
    "svs3 = svs2.loc[filt]"
   ]
  },
  {
   "cell_type": "code",
   "execution_count": 359,
   "id": "5065278b",
   "metadata": {},
   "outputs": [],
   "source": [
    "# Create a new dataframe that consists of a subset of only the columns needed for the analysis\n",
    "\n",
    "svs4 = svs3[['School Name','Regents Exam','School Year','# of Students Tested','Average Score']]"
   ]
  },
  {
   "cell_type": "code",
   "execution_count": 360,
   "id": "19a352eb",
   "metadata": {},
   "outputs": [
    {
     "data": {
      "text/html": [
       "<div>\n",
       "<style scoped>\n",
       "    .dataframe tbody tr th:only-of-type {\n",
       "        vertical-align: middle;\n",
       "    }\n",
       "\n",
       "    .dataframe tbody tr th {\n",
       "        vertical-align: top;\n",
       "    }\n",
       "\n",
       "    .dataframe thead th {\n",
       "        text-align: right;\n",
       "    }\n",
       "</style>\n",
       "<table border=\"1\" class=\"dataframe\">\n",
       "  <thead>\n",
       "    <tr style=\"text-align: right;\">\n",
       "      <th></th>\n",
       "      <th>School Name</th>\n",
       "      <th>Regents Exam</th>\n",
       "      <th>School Year</th>\n",
       "      <th># of Students Tested</th>\n",
       "      <th>Average Score</th>\n",
       "    </tr>\n",
       "  </thead>\n",
       "  <tbody>\n",
       "    <tr>\n",
       "      <th>14546</th>\n",
       "      <td>Benjamin N. Cardozo High School</td>\n",
       "      <td>U.S. History and Government</td>\n",
       "      <td>2015</td>\n",
       "      <td>880</td>\n",
       "      <td>83.5</td>\n",
       "    </tr>\n",
       "    <tr>\n",
       "      <th>14547</th>\n",
       "      <td>Benjamin N. Cardozo High School</td>\n",
       "      <td>U.S. History and Government</td>\n",
       "      <td>2016</td>\n",
       "      <td>904</td>\n",
       "      <td>82.5</td>\n",
       "    </tr>\n",
       "    <tr>\n",
       "      <th>14548</th>\n",
       "      <td>Benjamin N. Cardozo High School</td>\n",
       "      <td>U.S. History and Government</td>\n",
       "      <td>2017</td>\n",
       "      <td>833</td>\n",
       "      <td>82.9</td>\n",
       "    </tr>\n",
       "    <tr>\n",
       "      <th>14584</th>\n",
       "      <td>Francis Lewis High School</td>\n",
       "      <td>U.S. History and Government</td>\n",
       "      <td>2015</td>\n",
       "      <td>1122</td>\n",
       "      <td>82.7</td>\n",
       "    </tr>\n",
       "    <tr>\n",
       "      <th>14585</th>\n",
       "      <td>Francis Lewis High School</td>\n",
       "      <td>U.S. History and Government</td>\n",
       "      <td>2016</td>\n",
       "      <td>1036</td>\n",
       "      <td>83.4</td>\n",
       "    </tr>\n",
       "    <tr>\n",
       "      <th>...</th>\n",
       "      <td>...</td>\n",
       "      <td>...</td>\n",
       "      <td>...</td>\n",
       "      <td>...</td>\n",
       "      <td>...</td>\n",
       "    </tr>\n",
       "    <tr>\n",
       "      <th>194228</th>\n",
       "      <td>Francis Lewis High School</td>\n",
       "      <td>U.S. History and Government</td>\n",
       "      <td>2017</td>\n",
       "      <td>670</td>\n",
       "      <td>85.7</td>\n",
       "    </tr>\n",
       "    <tr>\n",
       "      <th>194229</th>\n",
       "      <td>Francis Lewis High School</td>\n",
       "      <td>U.S. History and Government</td>\n",
       "      <td>2017</td>\n",
       "      <td>64</td>\n",
       "      <td>78.7</td>\n",
       "    </tr>\n",
       "    <tr>\n",
       "      <th>194230</th>\n",
       "      <td>Francis Lewis High School</td>\n",
       "      <td>U.S. History and Government</td>\n",
       "      <td>2017</td>\n",
       "      <td>225</td>\n",
       "      <td>77.4</td>\n",
       "    </tr>\n",
       "    <tr>\n",
       "      <th>194231</th>\n",
       "      <td>Francis Lewis High School</td>\n",
       "      <td>U.S. History and Government</td>\n",
       "      <td>2017</td>\n",
       "      <td>9</td>\n",
       "      <td>92.3</td>\n",
       "    </tr>\n",
       "    <tr>\n",
       "      <th>194232</th>\n",
       "      <td>Francis Lewis High School</td>\n",
       "      <td>U.S. History and Government</td>\n",
       "      <td>2017</td>\n",
       "      <td>181</td>\n",
       "      <td>85.6</td>\n",
       "    </tr>\n",
       "  </tbody>\n",
       "</table>\n",
       "<p>78 rows × 5 columns</p>\n",
       "</div>"
      ],
      "text/plain": [
       "                            School Name                 Regents Exam  \\\n",
       "14546   Benjamin N. Cardozo High School  U.S. History and Government   \n",
       "14547   Benjamin N. Cardozo High School  U.S. History and Government   \n",
       "14548   Benjamin N. Cardozo High School  U.S. History and Government   \n",
       "14584         Francis Lewis High School  U.S. History and Government   \n",
       "14585         Francis Lewis High School  U.S. History and Government   \n",
       "...                                 ...                          ...   \n",
       "194228        Francis Lewis High School  U.S. History and Government   \n",
       "194229        Francis Lewis High School  U.S. History and Government   \n",
       "194230        Francis Lewis High School  U.S. History and Government   \n",
       "194231        Francis Lewis High School  U.S. History and Government   \n",
       "194232        Francis Lewis High School  U.S. History and Government   \n",
       "\n",
       "        School Year  # of Students Tested  Average Score  \n",
       "14546          2015                   880           83.5  \n",
       "14547          2016                   904           82.5  \n",
       "14548          2017                   833           82.9  \n",
       "14584          2015                  1122           82.7  \n",
       "14585          2016                  1036           83.4  \n",
       "...             ...                   ...            ...  \n",
       "194228         2017                   670           85.7  \n",
       "194229         2017                    64           78.7  \n",
       "194230         2017                   225           77.4  \n",
       "194231         2017                     9           92.3  \n",
       "194232         2017                   181           85.6  \n",
       "\n",
       "[78 rows x 5 columns]"
      ]
     },
     "execution_count": 360,
     "metadata": {},
     "output_type": "execute_result"
    }
   ],
   "source": [
    "# This is dataset that will be used for the statistics and visualizations portions\n",
    "\n",
    "svs4"
   ]
  },
  {
   "cell_type": "markdown",
   "id": "2ecc0191",
   "metadata": {},
   "source": [
    "#### *2. Statistics*"
   ]
  },
  {
   "cell_type": "code",
   "execution_count": 361,
   "id": "15ffd67b",
   "metadata": {},
   "outputs": [
    {
     "data": {
      "text/html": [
       "<div>\n",
       "<style scoped>\n",
       "    .dataframe tbody tr th:only-of-type {\n",
       "        vertical-align: middle;\n",
       "    }\n",
       "\n",
       "    .dataframe tbody tr th {\n",
       "        vertical-align: top;\n",
       "    }\n",
       "\n",
       "    .dataframe thead th {\n",
       "        text-align: right;\n",
       "    }\n",
       "</style>\n",
       "<table border=\"1\" class=\"dataframe\">\n",
       "  <thead>\n",
       "    <tr style=\"text-align: right;\">\n",
       "      <th></th>\n",
       "      <th>School Year</th>\n",
       "      <th># of Students Tested</th>\n",
       "      <th>Average Score</th>\n",
       "    </tr>\n",
       "  </thead>\n",
       "  <tbody>\n",
       "    <tr>\n",
       "      <th>count</th>\n",
       "      <td>78.000000</td>\n",
       "      <td>78.000000</td>\n",
       "      <td>78.000000</td>\n",
       "    </tr>\n",
       "    <tr>\n",
       "      <th>mean</th>\n",
       "      <td>2016.000000</td>\n",
       "      <td>379.743590</td>\n",
       "      <td>81.130769</td>\n",
       "    </tr>\n",
       "    <tr>\n",
       "      <th>std</th>\n",
       "      <td>0.821781</td>\n",
       "      <td>310.353022</td>\n",
       "      <td>5.875490</td>\n",
       "    </tr>\n",
       "    <tr>\n",
       "      <th>min</th>\n",
       "      <td>2015.000000</td>\n",
       "      <td>8.000000</td>\n",
       "      <td>64.500000</td>\n",
       "    </tr>\n",
       "    <tr>\n",
       "      <th>25%</th>\n",
       "      <td>2015.000000</td>\n",
       "      <td>129.000000</td>\n",
       "      <td>79.100000</td>\n",
       "    </tr>\n",
       "    <tr>\n",
       "      <th>50%</th>\n",
       "      <td>2016.000000</td>\n",
       "      <td>299.000000</td>\n",
       "      <td>83.200000</td>\n",
       "    </tr>\n",
       "    <tr>\n",
       "      <th>75%</th>\n",
       "      <td>2017.000000</td>\n",
       "      <td>599.250000</td>\n",
       "      <td>84.775000</td>\n",
       "    </tr>\n",
       "    <tr>\n",
       "      <th>max</th>\n",
       "      <td>2017.000000</td>\n",
       "      <td>1149.000000</td>\n",
       "      <td>92.300000</td>\n",
       "    </tr>\n",
       "  </tbody>\n",
       "</table>\n",
       "</div>"
      ],
      "text/plain": [
       "       School Year  # of Students Tested  Average Score\n",
       "count    78.000000             78.000000      78.000000\n",
       "mean   2016.000000            379.743590      81.130769\n",
       "std       0.821781            310.353022       5.875490\n",
       "min    2015.000000              8.000000      64.500000\n",
       "25%    2015.000000            129.000000      79.100000\n",
       "50%    2016.000000            299.000000      83.200000\n",
       "75%    2017.000000            599.250000      84.775000\n",
       "max    2017.000000           1149.000000      92.300000"
      ]
     },
     "execution_count": 361,
     "metadata": {},
     "output_type": "execute_result"
    }
   ],
   "source": [
    "# Summary statistics\n",
    "\n",
    "svs4.describe()"
   ]
  },
  {
   "cell_type": "code",
   "execution_count": 362,
   "id": "7ea4412a",
   "metadata": {},
   "outputs": [
    {
     "data": {
      "text/plain": [
       "Regents Exam                 School Year  School Name                    \n",
       "U.S. History and Government  2015         Benjamin N. Cardozo High School    4400\n",
       "                                          Francis Lewis High School          5610\n",
       "                             2016         Benjamin N. Cardozo High School    4520\n",
       "                                          Francis Lewis High School          5180\n",
       "                             2017         Benjamin N. Cardozo High School    4165\n",
       "                                          Francis Lewis High School          5745\n",
       "Name: # of Students Tested, dtype: int64"
      ]
     },
     "execution_count": 362,
     "metadata": {},
     "output_type": "execute_result"
    }
   ],
   "source": [
    "# Comparing the number of students tested each school year\n",
    "\n",
    "Yp"
   ]
  },
  {
   "cell_type": "code",
   "execution_count": 363,
   "id": "52fd6584",
   "metadata": {},
   "outputs": [
    {
     "data": {
      "text/plain": [
       "Regents Exam                 School Year  School Name                    \n",
       "U.S. History and Government  2015         Benjamin N. Cardozo High School    83.5\n",
       "                                          Francis Lewis High School          83.3\n",
       "                             2016         Benjamin N. Cardozo High School    82.5\n",
       "                                          Francis Lewis High School          83.4\n",
       "                             2017         Benjamin N. Cardozo High School    83.1\n",
       "                                          Francis Lewis High School          84.6\n",
       "Name: Average Score, dtype: float64"
      ]
     },
     "execution_count": 363,
     "metadata": {},
     "output_type": "execute_result"
    }
   ],
   "source": [
    "# Median average score each school year\n",
    "\n",
    "svs4.groupby(['Regents Exam','School Year','School Name'])['Average Score'].median()"
   ]
  },
  {
   "cell_type": "code",
   "execution_count": 364,
   "id": "317a8bb9",
   "metadata": {},
   "outputs": [
    {
     "data": {
      "text/plain": [
       "Regents Exam                 School Year  School Name                    \n",
       "U.S. History and Government  2015         Benjamin N. Cardozo High School    81.700000\n",
       "                                          Francis Lewis High School          80.907692\n",
       "                             2016         Benjamin N. Cardozo High School    80.184615\n",
       "                                          Francis Lewis High School          81.423077\n",
       "                             2017         Benjamin N. Cardozo High School    80.807692\n",
       "                                          Francis Lewis High School          81.761538\n",
       "Name: Average Score, dtype: float64"
      ]
     },
     "execution_count": 364,
     "metadata": {},
     "output_type": "execute_result"
    }
   ],
   "source": [
    "# Average score each school year\n",
    "\n",
    "svs4.groupby(['Regents Exam','School Year','School Name'])['Average Score'].mean()"
   ]
  },
  {
   "cell_type": "code",
   "execution_count": 365,
   "id": "fd77c0ca",
   "metadata": {},
   "outputs": [
    {
     "data": {
      "text/plain": [
       "Regents Exam                 School Year  School Name                    \n",
       "U.S. History and Government  2015         Benjamin N. Cardozo High School    67.9\n",
       "                                          Francis Lewis High School          66.0\n",
       "                             2016         Benjamin N. Cardozo High School    64.5\n",
       "                                          Francis Lewis High School          68.2\n",
       "                             2017         Benjamin N. Cardozo High School    65.8\n",
       "                                          Francis Lewis High School          65.4\n",
       "Name: Average Score, dtype: float64"
      ]
     },
     "execution_count": 365,
     "metadata": {},
     "output_type": "execute_result"
    }
   ],
   "source": [
    "# Minimum average score by school year\n",
    "\n",
    "svs4.groupby(['Regents Exam','School Year','School Name'])['Average Score'].min()"
   ]
  },
  {
   "cell_type": "code",
   "execution_count": 366,
   "id": "be2b28d8",
   "metadata": {},
   "outputs": [
    {
     "data": {
      "text/plain": [
       "Regents Exam                 School Year  School Name                    \n",
       "U.S. History and Government  2015         Benjamin N. Cardozo High School    87.2\n",
       "                                          Francis Lewis High School          85.0\n",
       "                             2016         Benjamin N. Cardozo High School    85.4\n",
       "                                          Francis Lewis High School          85.8\n",
       "                             2017         Benjamin N. Cardozo High School    85.8\n",
       "                                          Francis Lewis High School          92.3\n",
       "Name: Average Score, dtype: float64"
      ]
     },
     "execution_count": 366,
     "metadata": {},
     "output_type": "execute_result"
    }
   ],
   "source": [
    "# Maximum average score by school year\n",
    "\n",
    "svs4.groupby(['Regents Exam','School Year','School Name'])['Average Score'].max()"
   ]
  },
  {
   "cell_type": "markdown",
   "id": "6e87552e",
   "metadata": {},
   "source": [
    "#### *3. Visualizations*"
   ]
  },
  {
   "cell_type": "code",
   "execution_count": 367,
   "id": "6421f808",
   "metadata": {},
   "outputs": [],
   "source": [
    "sns.set()                             # (Re)set the seaborn default\n",
    "sns.set_style(\"whitegrid\")\n",
    "sns.axes_style(\"whitegrid\") \n",
    "sns.set(rc={'figure.figsize':(11.7,8.27)}) # Set size of charts"
   ]
  },
  {
   "cell_type": "code",
   "execution_count": 368,
   "id": "aac4d2ab",
   "metadata": {},
   "outputs": [
    {
     "data": {
      "text/plain": [
       "Text(0, 0.5, '')"
      ]
     },
     "execution_count": 368,
     "metadata": {},
     "output_type": "execute_result"
    },
    {
     "data": {
      "image/png": "[encoded data removed]",
      "text/plain": [
       "<Figure size 842.4x595.44 with 1 Axes>"
      ]
     },
     "metadata": {},
     "output_type": "display_data"
    }
   ],
   "source": [
    "bp = sns.barplot(x=\"School Year\",\n",
    "           y=\"# of Students Tested\",\n",
    "           hue=\"School Name\",\n",
    "           palette=['#FFD700', '#ae24d1'],\n",
    "           data=svs4,\n",
    "           ci=None)\n",
    "\n",
    "bp.set_title('Number of Students that took The U.S. History and Government Regent Exam Each Year')\n",
    "bp.set_ylabel(None)"
   ]
  },
  {
   "cell_type": "code",
   "execution_count": 369,
   "id": "d3cb065b",
   "metadata": {},
   "outputs": [
    {
     "data": {
      "text/plain": [
       "Text(0, 0.5, '')"
      ]
     },
     "execution_count": 369,
     "metadata": {},
     "output_type": "execute_result"
    },
    {
     "data": {
      "image/png": "[encoded data removed]",
      "text/plain": [
       "<Figure size 842.4x595.44 with 1 Axes>"
      ]
     },
     "metadata": {},
     "output_type": "display_data"
    }
   ],
   "source": [
    "pp = sns.pointplot(x=\"School Year\",\n",
    "             y='Average Score',\n",
    "             hue=\"School Name\",\n",
    "             palette=['#FFD700', '#ae24d1'],\n",
    "             data=svs4,\n",
    "             markers=[\"^\",\"o\"],\n",
    "             linestyles=[\"--\",\"--\"],\n",
    "             ci=None)\n",
    "\n",
    "pp.set_title('Average Test Results by School and Year')\n",
    "pp.set_ylabel(None)"
   ]
  },
  {
   "cell_type": "code",
   "execution_count": 370,
   "id": "9b27e7e3",
   "metadata": {},
   "outputs": [
    {
     "data": {
      "text/plain": [
       "Text(0.5, 1.0, 'Identifying Outliers of Average Test Scores')"
      ]
     },
     "execution_count": 370,
     "metadata": {},
     "output_type": "execute_result"
    },
    {
     "data": {
      "image/png": "[encoded data removed]",
      "text/plain": [
       "<Figure size 842.4x595.44 with 1 Axes>"
      ]
     },
     "metadata": {},
     "output_type": "display_data"
    }
   ],
   "source": [
    "bp=sns.boxplot(x=\"School Year\",\n",
    "           y=\"Average Score\",\n",
    "           hue=\"School Name\",\n",
    "           palette=['#FFD700', '#ae24d1'],\n",
    "           data=svs4,\n",
    "           medianprops={\"color\": \"coral\"},\n",
    "           flierprops={\"marker\": \"x\"})\n",
    "\n",
    "bp.set_title('Identifying Outliers of Average Test Scores')"
   ]
  },
  {
   "cell_type": "markdown",
   "id": "71a861ad",
   "metadata": {},
   "source": [
    "#### *4. Conclusion*"
   ]
  },
  {
   "cell_type": "markdown",
   "id": "baa962d4",
   "metadata": {},
   "source": [
    "<img src=\"FL_Mascot.jpg\" width = \"300\" height = \"100\">\n",
    "\n",
    "#### Looking at the average test scores for the U.S. History and Government Regent Exams from 2015 through 2017. Francis Lewis High School average test score improved, while the test score average for Benjamin N. Cardozo dropped when compared to 2015. Francis Lewis High School also had more students take the exam each year."
   ]
  },
  {
   "cell_type": "code",
   "execution_count": null,
   "id": "b6840368",
   "metadata": {},
   "outputs": [],
   "source": []
  }
 ],
 "metadata": {
  "kernelspec": {
   "display_name": "Python 3 (ipykernel)",
   "language": "python",
   "name": "python3"
  },
  "language_info": {
   "codemirror_mode": {
    "name": "ipython",
    "version": 3
   },
   "file_extension": ".py",
   "mimetype": "text/x-python",
   "name": "python",
   "nbconvert_exporter": "python",
   "pygments_lexer": "ipython3",
   "version": "3.9.12"
  }
 },
 "nbformat": 4,
 "nbformat_minor": 5
}
