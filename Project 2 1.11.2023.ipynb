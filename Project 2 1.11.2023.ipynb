{
 "cells": [
  {
   "cell_type": "markdown",
   "id": "4378befd",
   "metadata": {},
   "source": [
    "### Project 2 - NYPD Complaint Historic Data\n",
    "\n",
    "#### Outline:\n",
    "##### 1. Data Importing/Cleaning/Filtering\n",
    "##### 2. Statistics\n",
    "##### 3. Visualizations\n",
    "##### 4. Conclusion"
   ]
  },
  {
   "cell_type": "markdown",
   "id": "d52862c3",
   "metadata": {},
   "source": [
    "##### 1. Imports"
   ]
  },
  {
   "cell_type": "code",
   "execution_count": 3,
   "id": "4b0b44f6",
   "metadata": {},
   "outputs": [],
   "source": [
    "import pandas as pd\n",
    "import matplotlib.pyplot as plt\n",
    "%matplotlib inline\n",
    "import csv\n",
    "import numpy as np\n",
    "from collections import Counter\n",
    "\n",
    "nypd = pd.read_csv('/Users/pps/Documents/Data/Python/Python for Data Analytics/Projects/Project_2/NYPD_Complaint_Data_Historic.csv', low_memory=False)"
   ]
  },
  {
   "cell_type": "markdown",
   "id": "89efd5ca",
   "metadata": {},
   "source": [
    "#### *1B. Getting to the know the data*"
   ]
  },
  {
   "cell_type": "code",
   "execution_count": 4,
   "id": "1026471f",
   "metadata": {},
   "outputs": [
    {
     "name": "stdout",
     "output_type": "stream",
     "text": [
      "<class 'pandas.core.frame.DataFrame'>\n",
      "RangeIndex: 7825499 entries, 0 to 7825498\n",
      "Data columns (total 35 columns):\n",
      " #   Column             Dtype  \n",
      "---  ------             -----  \n",
      " 0   CMPLNT_NUM         int64  \n",
      " 1   CMPLNT_FR_DT       object \n",
      " 2   CMPLNT_FR_TM       object \n",
      " 3   CMPLNT_TO_DT       object \n",
      " 4   CMPLNT_TO_TM       object \n",
      " 5   ADDR_PCT_CD        float64\n",
      " 6   RPT_DT             object \n",
      " 7   KY_CD              int64  \n",
      " 8   OFNS_DESC          object \n",
      " 9   PD_CD              float64\n",
      " 10  PD_DESC            object \n",
      " 11  CRM_ATPT_CPTD_CD   object \n",
      " 12  LAW_CAT_CD         object \n",
      " 13  BORO_NM            object \n",
      " 14  LOC_OF_OCCUR_DESC  object \n",
      " 15  PREM_TYP_DESC      object \n",
      " 16  JURIS_DESC         object \n",
      " 17  JURISDICTION_CODE  float64\n",
      " 18  PARKS_NM           object \n",
      " 19  HADEVELOPT         object \n",
      " 20  HOUSING_PSA        object \n",
      " 21  X_COORD_CD         float64\n",
      " 22  Y_COORD_CD         float64\n",
      " 23  SUSP_AGE_GROUP     object \n",
      " 24  SUSP_RACE          object \n",
      " 25  SUSP_SEX           object \n",
      " 26  TRANSIT_DISTRICT   float64\n",
      " 27  Latitude           float64\n",
      " 28  Longitude          float64\n",
      " 29  Lat_Lon            object \n",
      " 30  PATROL_BORO        object \n",
      " 31  STATION_NAME       object \n",
      " 32  VIC_AGE_GROUP      object \n",
      " 33  VIC_RACE           object \n",
      " 34  VIC_SEX            object \n",
      "dtypes: float64(8), int64(2), object(25)\n",
      "memory usage: 2.0+ GB\n"
     ]
    }
   ],
   "source": [
    "nypd.info()"
   ]
  },
  {
   "cell_type": "code",
   "execution_count": 5,
   "id": "1b71d244",
   "metadata": {},
   "outputs": [
    {
     "data": {
      "text/plain": [
       "56781886"
      ]
     },
     "execution_count": 5,
     "metadata": {},
     "output_type": "execute_result"
    }
   ],
   "source": [
    "# Check for any missing values in dataframe\n",
    "\n",
    "nypd.isnull().sum().sum()"
   ]
  },
  {
   "cell_type": "code",
   "execution_count": 6,
   "id": "e9d32b28",
   "metadata": {},
   "outputs": [
    {
     "data": {
      "text/plain": [
       "CMPLNT_NUM                 0\n",
       "CMPLNT_FR_DT             655\n",
       "CMPLNT_FR_TM              48\n",
       "CMPLNT_TO_DT         1744294\n",
       "CMPLNT_TO_TM         1739479\n",
       "ADDR_PCT_CD             2166\n",
       "RPT_DT                     0\n",
       "KY_CD                      0\n",
       "OFNS_DESC              18832\n",
       "PD_CD                   6761\n",
       "PD_DESC                 6761\n",
       "CRM_ATPT_CPTD_CD         168\n",
       "LAW_CAT_CD                 0\n",
       "BORO_NM                12480\n",
       "LOC_OF_OCCUR_DESC    1618063\n",
       "PREM_TYP_DESC          42015\n",
       "JURIS_DESC                 0\n",
       "JURISDICTION_CODE       6761\n",
       "PARKS_NM             7794644\n",
       "HADEVELOPT           7477110\n",
       "HOUSING_PSA          7226206\n",
       "X_COORD_CD             17339\n",
       "Y_COORD_CD             17339\n",
       "SUSP_AGE_GROUP       4883369\n",
       "SUSP_RACE            3514828\n",
       "SUSP_SEX             3648142\n",
       "TRANSIT_DISTRICT     7653024\n",
       "Latitude               17339\n",
       "Longitude              17339\n",
       "Lat_Lon                17339\n",
       "PATROL_BORO             7218\n",
       "STATION_NAME         7653024\n",
       "VIC_AGE_GROUP        1638445\n",
       "VIC_RACE                 390\n",
       "VIC_SEX                  308\n",
       "dtype: int64"
      ]
     },
     "execution_count": 6,
     "metadata": {},
     "output_type": "execute_result"
    }
   ],
   "source": [
    "# If there are missing values, in what columns\n",
    "\n",
    "nypd.isnull().sum()"
   ]
  },
  {
   "cell_type": "code",
   "execution_count": 7,
   "id": "39275ac3",
   "metadata": {},
   "outputs": [
    {
     "data": {
      "text/html": [
       "<div>\n",
       "<style scoped>\n",
       "    .dataframe tbody tr th:only-of-type {\n",
       "        vertical-align: middle;\n",
       "    }\n",
       "\n",
       "    .dataframe tbody tr th {\n",
       "        vertical-align: top;\n",
       "    }\n",
       "\n",
       "    .dataframe thead th {\n",
       "        text-align: right;\n",
       "    }\n",
       "</style>\n",
       "<table border=\"1\" class=\"dataframe\">\n",
       "  <thead>\n",
       "    <tr style=\"text-align: right;\">\n",
       "      <th></th>\n",
       "      <th>CMPLNT_NUM</th>\n",
       "      <th>CMPLNT_FR_DT</th>\n",
       "      <th>CMPLNT_FR_TM</th>\n",
       "      <th>CMPLNT_TO_DT</th>\n",
       "      <th>CMPLNT_TO_TM</th>\n",
       "      <th>ADDR_PCT_CD</th>\n",
       "      <th>RPT_DT</th>\n",
       "      <th>KY_CD</th>\n",
       "      <th>OFNS_DESC</th>\n",
       "      <th>PD_CD</th>\n",
       "      <th>...</th>\n",
       "      <th>SUSP_SEX</th>\n",
       "      <th>TRANSIT_DISTRICT</th>\n",
       "      <th>Latitude</th>\n",
       "      <th>Longitude</th>\n",
       "      <th>Lat_Lon</th>\n",
       "      <th>PATROL_BORO</th>\n",
       "      <th>STATION_NAME</th>\n",
       "      <th>VIC_AGE_GROUP</th>\n",
       "      <th>VIC_RACE</th>\n",
       "      <th>VIC_SEX</th>\n",
       "    </tr>\n",
       "  </thead>\n",
       "  <tbody>\n",
       "    <tr>\n",
       "      <th>0</th>\n",
       "      <td>506547392</td>\n",
       "      <td>03/29/2018</td>\n",
       "      <td>20:30:00</td>\n",
       "      <td>NaN</td>\n",
       "      <td>NaN</td>\n",
       "      <td>32.0</td>\n",
       "      <td>03/30/2018</td>\n",
       "      <td>351</td>\n",
       "      <td>CRIMINAL MISCHIEF &amp; RELATED OF</td>\n",
       "      <td>254.0</td>\n",
       "      <td>...</td>\n",
       "      <td>NaN</td>\n",
       "      <td>NaN</td>\n",
       "      <td>40.810877</td>\n",
       "      <td>-73.941064</td>\n",
       "      <td>(40.810877241, -73.941064151)</td>\n",
       "      <td>PATROL BORO MAN NORTH</td>\n",
       "      <td>NaN</td>\n",
       "      <td>25-44</td>\n",
       "      <td>WHITE</td>\n",
       "      <td>F</td>\n",
       "    </tr>\n",
       "    <tr>\n",
       "      <th>1</th>\n",
       "      <td>629632833</td>\n",
       "      <td>02/06/2018</td>\n",
       "      <td>23:15:00</td>\n",
       "      <td>NaN</td>\n",
       "      <td>NaN</td>\n",
       "      <td>52.0</td>\n",
       "      <td>02/07/2018</td>\n",
       "      <td>341</td>\n",
       "      <td>PETIT LARCENY</td>\n",
       "      <td>333.0</td>\n",
       "      <td>...</td>\n",
       "      <td>F</td>\n",
       "      <td>NaN</td>\n",
       "      <td>40.873671</td>\n",
       "      <td>-73.908014</td>\n",
       "      <td>(40.873671035, -73.908013649)</td>\n",
       "      <td>PATROL BORO BRONX</td>\n",
       "      <td>NaN</td>\n",
       "      <td>UNKNOWN</td>\n",
       "      <td>UNKNOWN</td>\n",
       "      <td>D</td>\n",
       "    </tr>\n",
       "    <tr>\n",
       "      <th>2</th>\n",
       "      <td>787203902</td>\n",
       "      <td>11/21/2018</td>\n",
       "      <td>00:15:00</td>\n",
       "      <td>11/21/2018</td>\n",
       "      <td>00:20:00</td>\n",
       "      <td>75.0</td>\n",
       "      <td>11/21/2018</td>\n",
       "      <td>341</td>\n",
       "      <td>PETIT LARCENY</td>\n",
       "      <td>321.0</td>\n",
       "      <td>...</td>\n",
       "      <td>F</td>\n",
       "      <td>NaN</td>\n",
       "      <td>40.651782</td>\n",
       "      <td>-73.885457</td>\n",
       "      <td>(40.651782232, -73.885456761)</td>\n",
       "      <td>PATROL BORO BKLYN NORTH</td>\n",
       "      <td>NaN</td>\n",
       "      <td>UNKNOWN</td>\n",
       "      <td>UNKNOWN</td>\n",
       "      <td>D</td>\n",
       "    </tr>\n",
       "    <tr>\n",
       "      <th>3</th>\n",
       "      <td>280364018</td>\n",
       "      <td>06/09/2018</td>\n",
       "      <td>21:42:00</td>\n",
       "      <td>06/09/2018</td>\n",
       "      <td>21:43:00</td>\n",
       "      <td>10.0</td>\n",
       "      <td>06/10/2018</td>\n",
       "      <td>361</td>\n",
       "      <td>OFF. AGNST PUB ORD SENSBLTY &amp;</td>\n",
       "      <td>639.0</td>\n",
       "      <td>...</td>\n",
       "      <td>M</td>\n",
       "      <td>NaN</td>\n",
       "      <td>40.759310</td>\n",
       "      <td>-73.994706</td>\n",
       "      <td>(40.759310399, -73.994706072)</td>\n",
       "      <td>PATROL BORO MAN SOUTH</td>\n",
       "      <td>NaN</td>\n",
       "      <td>18-24</td>\n",
       "      <td>WHITE HISPANIC</td>\n",
       "      <td>F</td>\n",
       "    </tr>\n",
       "    <tr>\n",
       "      <th>4</th>\n",
       "      <td>985800320</td>\n",
       "      <td>11/10/2018</td>\n",
       "      <td>19:40:00</td>\n",
       "      <td>11/10/2018</td>\n",
       "      <td>19:45:00</td>\n",
       "      <td>19.0</td>\n",
       "      <td>11/10/2018</td>\n",
       "      <td>341</td>\n",
       "      <td>PETIT LARCENY</td>\n",
       "      <td>333.0</td>\n",
       "      <td>...</td>\n",
       "      <td>F</td>\n",
       "      <td>NaN</td>\n",
       "      <td>40.764536</td>\n",
       "      <td>-73.970728</td>\n",
       "      <td>(40.764535539, -73.970728388)</td>\n",
       "      <td>PATROL BORO MAN NORTH</td>\n",
       "      <td>NaN</td>\n",
       "      <td>UNKNOWN</td>\n",
       "      <td>UNKNOWN</td>\n",
       "      <td>D</td>\n",
       "    </tr>\n",
       "  </tbody>\n",
       "</table>\n",
       "<p>5 rows × 35 columns</p>\n",
       "</div>"
      ],
      "text/plain": [
       "   CMPLNT_NUM CMPLNT_FR_DT CMPLNT_FR_TM CMPLNT_TO_DT CMPLNT_TO_TM  \\\n",
       "0   506547392   03/29/2018     20:30:00          NaN          NaN   \n",
       "1   629632833   02/06/2018     23:15:00          NaN          NaN   \n",
       "2   787203902   11/21/2018     00:15:00   11/21/2018     00:20:00   \n",
       "3   280364018   06/09/2018     21:42:00   06/09/2018     21:43:00   \n",
       "4   985800320   11/10/2018     19:40:00   11/10/2018     19:45:00   \n",
       "\n",
       "   ADDR_PCT_CD      RPT_DT  KY_CD                       OFNS_DESC  PD_CD  ...  \\\n",
       "0         32.0  03/30/2018    351  CRIMINAL MISCHIEF & RELATED OF  254.0  ...   \n",
       "1         52.0  02/07/2018    341                   PETIT LARCENY  333.0  ...   \n",
       "2         75.0  11/21/2018    341                   PETIT LARCENY  321.0  ...   \n",
       "3         10.0  06/10/2018    361   OFF. AGNST PUB ORD SENSBLTY &  639.0  ...   \n",
       "4         19.0  11/10/2018    341                   PETIT LARCENY  333.0  ...   \n",
       "\n",
       "  SUSP_SEX TRANSIT_DISTRICT   Latitude  Longitude  \\\n",
       "0      NaN              NaN  40.810877 -73.941064   \n",
       "1        F              NaN  40.873671 -73.908014   \n",
       "2        F              NaN  40.651782 -73.885457   \n",
       "3        M              NaN  40.759310 -73.994706   \n",
       "4        F              NaN  40.764536 -73.970728   \n",
       "\n",
       "                         Lat_Lon              PATROL_BORO STATION_NAME  \\\n",
       "0  (40.810877241, -73.941064151)    PATROL BORO MAN NORTH          NaN   \n",
       "1  (40.873671035, -73.908013649)        PATROL BORO BRONX          NaN   \n",
       "2  (40.651782232, -73.885456761)  PATROL BORO BKLYN NORTH          NaN   \n",
       "3  (40.759310399, -73.994706072)    PATROL BORO MAN SOUTH          NaN   \n",
       "4  (40.764535539, -73.970728388)    PATROL BORO MAN NORTH          NaN   \n",
       "\n",
       "   VIC_AGE_GROUP        VIC_RACE VIC_SEX  \n",
       "0          25-44           WHITE       F  \n",
       "1        UNKNOWN         UNKNOWN       D  \n",
       "2        UNKNOWN         UNKNOWN       D  \n",
       "3          18-24  WHITE HISPANIC       F  \n",
       "4        UNKNOWN         UNKNOWN       D  \n",
       "\n",
       "[5 rows x 35 columns]"
      ]
     },
     "execution_count": 7,
     "metadata": {},
     "output_type": "execute_result"
    }
   ],
   "source": [
    "# Looking at the data\n",
    "\n",
    "nypd.head()"
   ]
  },
  {
   "cell_type": "markdown",
   "id": "1ce35e5a",
   "metadata": {},
   "source": [
    "#### *Next Section contains Data Cleaning and some Statistics*"
   ]
  },
  {
   "cell_type": "code",
   "execution_count": 8,
   "id": "31129156",
   "metadata": {},
   "outputs": [],
   "source": [
    "# Splitting column to obtain \"Month\" and \"Year\" column\n",
    "\n",
    "nypd[[\"Month\",\"Day\",\"Complaint Year\"]] = nypd['CMPLNT_FR_DT'].str.split(\"/\",expand=True)"
   ]
  },
  {
   "cell_type": "code",
   "execution_count": 9,
   "id": "8c1f7dfb",
   "metadata": {},
   "outputs": [],
   "source": [
    "# Splitting column to get Borough\n",
    "\n",
    "nypd[[\"1\",\"2\",\"Borough\",\"4\"]] = nypd['PATROL_BORO'].str.split(\" \",expand=True)"
   ]
  },
  {
   "cell_type": "code",
   "execution_count": 10,
   "id": "6fb7c226",
   "metadata": {},
   "outputs": [
    {
     "data": {
      "text/html": [
       "<div>\n",
       "<style scoped>\n",
       "    .dataframe tbody tr th:only-of-type {\n",
       "        vertical-align: middle;\n",
       "    }\n",
       "\n",
       "    .dataframe tbody tr th {\n",
       "        vertical-align: top;\n",
       "    }\n",
       "\n",
       "    .dataframe thead th {\n",
       "        text-align: right;\n",
       "    }\n",
       "</style>\n",
       "<table border=\"1\" class=\"dataframe\">\n",
       "  <thead>\n",
       "    <tr style=\"text-align: right;\">\n",
       "      <th></th>\n",
       "      <th>CMPLNT_NUM</th>\n",
       "      <th>CMPLNT_FR_DT</th>\n",
       "      <th>CMPLNT_FR_TM</th>\n",
       "      <th>CMPLNT_TO_DT</th>\n",
       "      <th>CMPLNT_TO_TM</th>\n",
       "      <th>ADDR_PCT_CD</th>\n",
       "      <th>RPT_DT</th>\n",
       "      <th>KY_CD</th>\n",
       "      <th>OFNS_DESC</th>\n",
       "      <th>PD_CD</th>\n",
       "      <th>...</th>\n",
       "      <th>VIC_AGE_GROUP</th>\n",
       "      <th>VIC_RACE</th>\n",
       "      <th>VIC_SEX</th>\n",
       "      <th>Month</th>\n",
       "      <th>Day</th>\n",
       "      <th>Complaint Year</th>\n",
       "      <th>1</th>\n",
       "      <th>2</th>\n",
       "      <th>Borough</th>\n",
       "      <th>4</th>\n",
       "    </tr>\n",
       "  </thead>\n",
       "  <tbody>\n",
       "    <tr>\n",
       "      <th>0</th>\n",
       "      <td>506547392</td>\n",
       "      <td>03/29/2018</td>\n",
       "      <td>20:30:00</td>\n",
       "      <td>NaN</td>\n",
       "      <td>NaN</td>\n",
       "      <td>32.0</td>\n",
       "      <td>03/30/2018</td>\n",
       "      <td>351</td>\n",
       "      <td>CRIMINAL MISCHIEF &amp; RELATED OF</td>\n",
       "      <td>254.0</td>\n",
       "      <td>...</td>\n",
       "      <td>25-44</td>\n",
       "      <td>WHITE</td>\n",
       "      <td>F</td>\n",
       "      <td>03</td>\n",
       "      <td>29</td>\n",
       "      <td>2018</td>\n",
       "      <td>PATROL</td>\n",
       "      <td>BORO</td>\n",
       "      <td>MAN</td>\n",
       "      <td>NORTH</td>\n",
       "    </tr>\n",
       "    <tr>\n",
       "      <th>1</th>\n",
       "      <td>629632833</td>\n",
       "      <td>02/06/2018</td>\n",
       "      <td>23:15:00</td>\n",
       "      <td>NaN</td>\n",
       "      <td>NaN</td>\n",
       "      <td>52.0</td>\n",
       "      <td>02/07/2018</td>\n",
       "      <td>341</td>\n",
       "      <td>PETIT LARCENY</td>\n",
       "      <td>333.0</td>\n",
       "      <td>...</td>\n",
       "      <td>UNKNOWN</td>\n",
       "      <td>UNKNOWN</td>\n",
       "      <td>D</td>\n",
       "      <td>02</td>\n",
       "      <td>06</td>\n",
       "      <td>2018</td>\n",
       "      <td>PATROL</td>\n",
       "      <td>BORO</td>\n",
       "      <td>BRONX</td>\n",
       "      <td>None</td>\n",
       "    </tr>\n",
       "    <tr>\n",
       "      <th>2</th>\n",
       "      <td>787203902</td>\n",
       "      <td>11/21/2018</td>\n",
       "      <td>00:15:00</td>\n",
       "      <td>11/21/2018</td>\n",
       "      <td>00:20:00</td>\n",
       "      <td>75.0</td>\n",
       "      <td>11/21/2018</td>\n",
       "      <td>341</td>\n",
       "      <td>PETIT LARCENY</td>\n",
       "      <td>321.0</td>\n",
       "      <td>...</td>\n",
       "      <td>UNKNOWN</td>\n",
       "      <td>UNKNOWN</td>\n",
       "      <td>D</td>\n",
       "      <td>11</td>\n",
       "      <td>21</td>\n",
       "      <td>2018</td>\n",
       "      <td>PATROL</td>\n",
       "      <td>BORO</td>\n",
       "      <td>BKLYN</td>\n",
       "      <td>NORTH</td>\n",
       "    </tr>\n",
       "    <tr>\n",
       "      <th>3</th>\n",
       "      <td>280364018</td>\n",
       "      <td>06/09/2018</td>\n",
       "      <td>21:42:00</td>\n",
       "      <td>06/09/2018</td>\n",
       "      <td>21:43:00</td>\n",
       "      <td>10.0</td>\n",
       "      <td>06/10/2018</td>\n",
       "      <td>361</td>\n",
       "      <td>OFF. AGNST PUB ORD SENSBLTY &amp;</td>\n",
       "      <td>639.0</td>\n",
       "      <td>...</td>\n",
       "      <td>18-24</td>\n",
       "      <td>WHITE HISPANIC</td>\n",
       "      <td>F</td>\n",
       "      <td>06</td>\n",
       "      <td>09</td>\n",
       "      <td>2018</td>\n",
       "      <td>PATROL</td>\n",
       "      <td>BORO</td>\n",
       "      <td>MAN</td>\n",
       "      <td>SOUTH</td>\n",
       "    </tr>\n",
       "    <tr>\n",
       "      <th>4</th>\n",
       "      <td>985800320</td>\n",
       "      <td>11/10/2018</td>\n",
       "      <td>19:40:00</td>\n",
       "      <td>11/10/2018</td>\n",
       "      <td>19:45:00</td>\n",
       "      <td>19.0</td>\n",
       "      <td>11/10/2018</td>\n",
       "      <td>341</td>\n",
       "      <td>PETIT LARCENY</td>\n",
       "      <td>333.0</td>\n",
       "      <td>...</td>\n",
       "      <td>UNKNOWN</td>\n",
       "      <td>UNKNOWN</td>\n",
       "      <td>D</td>\n",
       "      <td>11</td>\n",
       "      <td>10</td>\n",
       "      <td>2018</td>\n",
       "      <td>PATROL</td>\n",
       "      <td>BORO</td>\n",
       "      <td>MAN</td>\n",
       "      <td>NORTH</td>\n",
       "    </tr>\n",
       "  </tbody>\n",
       "</table>\n",
       "<p>5 rows × 42 columns</p>\n",
       "</div>"
      ],
      "text/plain": [
       "   CMPLNT_NUM CMPLNT_FR_DT CMPLNT_FR_TM CMPLNT_TO_DT CMPLNT_TO_TM  \\\n",
       "0   506547392   03/29/2018     20:30:00          NaN          NaN   \n",
       "1   629632833   02/06/2018     23:15:00          NaN          NaN   \n",
       "2   787203902   11/21/2018     00:15:00   11/21/2018     00:20:00   \n",
       "3   280364018   06/09/2018     21:42:00   06/09/2018     21:43:00   \n",
       "4   985800320   11/10/2018     19:40:00   11/10/2018     19:45:00   \n",
       "\n",
       "   ADDR_PCT_CD      RPT_DT  KY_CD                       OFNS_DESC  PD_CD  ...  \\\n",
       "0         32.0  03/30/2018    351  CRIMINAL MISCHIEF & RELATED OF  254.0  ...   \n",
       "1         52.0  02/07/2018    341                   PETIT LARCENY  333.0  ...   \n",
       "2         75.0  11/21/2018    341                   PETIT LARCENY  321.0  ...   \n",
       "3         10.0  06/10/2018    361   OFF. AGNST PUB ORD SENSBLTY &  639.0  ...   \n",
       "4         19.0  11/10/2018    341                   PETIT LARCENY  333.0  ...   \n",
       "\n",
       "  VIC_AGE_GROUP        VIC_RACE VIC_SEX Month Day Complaint Year       1  \\\n",
       "0         25-44           WHITE       F    03  29           2018  PATROL   \n",
       "1       UNKNOWN         UNKNOWN       D    02  06           2018  PATROL   \n",
       "2       UNKNOWN         UNKNOWN       D    11  21           2018  PATROL   \n",
       "3         18-24  WHITE HISPANIC       F    06  09           2018  PATROL   \n",
       "4       UNKNOWN         UNKNOWN       D    11  10           2018  PATROL   \n",
       "\n",
       "      2 Borough      4  \n",
       "0  BORO     MAN  NORTH  \n",
       "1  BORO   BRONX   None  \n",
       "2  BORO   BKLYN  NORTH  \n",
       "3  BORO     MAN  SOUTH  \n",
       "4  BORO     MAN  NORTH  \n",
       "\n",
       "[5 rows x 42 columns]"
      ]
     },
     "execution_count": 10,
     "metadata": {},
     "output_type": "execute_result"
    }
   ],
   "source": [
    "nypd.head()"
   ]
  },
  {
   "cell_type": "code",
   "execution_count": 11,
   "id": "d8c9b85b",
   "metadata": {},
   "outputs": [
    {
     "data": {
      "text/plain": [
       "MAN       1882063\n",
       "BRONX     1694758\n",
       "BKLYN     2314644\n",
       "QUEENS    1564806\n",
       "STATEN     362010\n",
       "Name: Borough, dtype: int64"
      ]
     },
     "execution_count": 11,
     "metadata": {},
     "output_type": "execute_result"
    }
   ],
   "source": [
    "nypd['Borough'].value_counts(sort=False)"
   ]
  },
  {
   "cell_type": "code",
   "execution_count": 12,
   "id": "879a4ddd",
   "metadata": {},
   "outputs": [],
   "source": [
    "# Replacing the above values with full spelling of boroughs\n",
    "\n",
    "nypd['Borough'].replace(['MAN','BKLYN','STATEN'],['MANHATTAN','BROOKLYN','STATEN ISLAND'],inplace=True)"
   ]
  },
  {
   "cell_type": "code",
   "execution_count": 13,
   "id": "6c28a887",
   "metadata": {},
   "outputs": [
    {
     "data": {
      "text/plain": [
       "BROOKLYN         2314644\n",
       "MANHATTAN        1882063\n",
       "BRONX            1694758\n",
       "QUEENS           1564806\n",
       "STATEN ISLAND     362010\n",
       "Name: Borough, dtype: int64"
      ]
     },
     "execution_count": 13,
     "metadata": {},
     "output_type": "execute_result"
    }
   ],
   "source": [
    "# Checking replacemnt\n",
    " \n",
    "nypd['Borough'].value_counts()"
   ]
  },
  {
   "cell_type": "code",
   "execution_count": 16,
   "id": "99c1ccfa",
   "metadata": {},
   "outputs": [],
   "source": [
    "# Looking for the latest year avaliable in the data\n",
    "\n",
    "##nypd['Complaint Year'].max()"
   ]
  },
  {
   "cell_type": "code",
   "execution_count": 22,
   "id": "faaac3dd",
   "metadata": {},
   "outputs": [
    {
     "data": {
      "text/plain": [
       "2019    458441\n",
       "Name: Complaint Year, dtype: int64"
      ]
     },
     "execution_count": 22,
     "metadata": {},
     "output_type": "execute_result"
    }
   ],
   "source": [
    "# Filter the dataframe for 2019\n",
    "\n",
    "filt = nypd['Complaint Year']=='2019'\n",
    "nypd = nypd.loc[filt]\n",
    "nypd['Complaint Year'].value_counts()"
   ]
  },
  {
   "cell_type": "code",
   "execution_count": 23,
   "id": "8126dbad",
   "metadata": {},
   "outputs": [
    {
     "data": {
      "text/plain": [
       "True"
      ]
     },
     "execution_count": 23,
     "metadata": {},
     "output_type": "execute_result"
    }
   ],
   "source": [
    "# Does the 2019 dataset have unique complaint numbers?\n",
    "\n",
    "nypd['CMPLNT_NUM'].is_unique"
   ]
  },
  {
   "cell_type": "code",
   "execution_count": 24,
   "id": "17818576",
   "metadata": {},
   "outputs": [
    {
     "data": {
      "text/plain": [
       "BROOKLYN         131698\n",
       "MANHATTAN        115419\n",
       "BRONX            100263\n",
       "QUEENS            91905\n",
       "STATEN ISLAND     18855\n",
       "Name: Borough, dtype: int64"
      ]
     },
     "execution_count": 24,
     "metadata": {},
     "output_type": "execute_result"
    }
   ],
   "source": [
    "# Number of complaints by borough\n",
    "\n",
    "nypd['Borough'].value_counts()"
   ]
  },
  {
   "cell_type": "code",
   "execution_count": 25,
   "id": "b9779110",
   "metadata": {},
   "outputs": [
    {
     "data": {
      "text/plain": [
       "PETIT LARCENY                       89071\n",
       "HARRASSMENT 2                       71682\n",
       "ASSAULT 3 & RELATED OFFENSES        52783\n",
       "CRIMINAL MISCHIEF & RELATED OF      46875\n",
       "GRAND LARCENY                       42682\n",
       "                                    ...  \n",
       "UNLAWFUL POSS. WEAP. ON SCHOOL          3\n",
       "OFFENSES AGAINST MARRIAGE UNCL          1\n",
       "KIDNAPPING AND RELATED OFFENSES         1\n",
       "OTHER STATE LAWS (NON PENAL LAW)        1\n",
       "OTHER TRAFFIC INFRACTION                1\n",
       "Name: OFNS_DESC, Length: 63, dtype: int64"
      ]
     },
     "execution_count": 25,
     "metadata": {},
     "output_type": "execute_result"
    }
   ],
   "source": [
    "# Number of complaints by Offense\n",
    "\n",
    "nypd['OFNS_DESC'].value_counts()"
   ]
  },
  {
   "cell_type": "code",
   "execution_count": 26,
   "id": "7731bcc9",
   "metadata": {},
   "outputs": [
    {
     "data": {
      "text/plain": [
       "F    182207\n",
       "M    160895\n",
       "E     49716\n",
       "D     65620\n",
       "Name: VIC_SEX, dtype: int64"
      ]
     },
     "execution_count": 26,
     "metadata": {},
     "output_type": "execute_result"
    }
   ],
   "source": [
    "# Number of complaints by Victim sex\n",
    "\n",
    "nypd['VIC_SEX'].value_counts(sort=False)"
   ]
  },
  {
   "cell_type": "code",
   "execution_count": 27,
   "id": "bb6ec614",
   "metadata": {},
   "outputs": [
    {
     "data": {
      "text/plain": [
       "Index(['CMPLNT_NUM', 'CMPLNT_FR_DT', 'CMPLNT_FR_TM', 'CMPLNT_TO_DT',\n",
       "       'CMPLNT_TO_TM', 'ADDR_PCT_CD', 'RPT_DT', 'KY_CD', 'OFNS_DESC', 'PD_CD',\n",
       "       'PD_DESC', 'CRM_ATPT_CPTD_CD', 'LAW_CAT_CD', 'BORO_NM',\n",
       "       'LOC_OF_OCCUR_DESC', 'PREM_TYP_DESC', 'JURIS_DESC', 'JURISDICTION_CODE',\n",
       "       'PARKS_NM', 'HADEVELOPT', 'HOUSING_PSA', 'X_COORD_CD', 'Y_COORD_CD',\n",
       "       'SUSP_AGE_GROUP', 'SUSP_RACE', 'SUSP_SEX', 'TRANSIT_DISTRICT',\n",
       "       'Latitude', 'Longitude', 'Lat_Lon', 'PATROL_BORO', 'STATION_NAME',\n",
       "       'VIC_AGE_GROUP', 'VIC_RACE', 'VIC_SEX', 'Month', 'Day',\n",
       "       'Complaint Year', '1', '2', 'Borough', '4'],\n",
       "      dtype='object')"
      ]
     },
     "execution_count": 27,
     "metadata": {},
     "output_type": "execute_result"
    }
   ],
   "source": [
    "nypd.columns"
   ]
  },
  {
   "cell_type": "code",
   "execution_count": 28,
   "id": "e62d1165",
   "metadata": {},
   "outputs": [],
   "source": [
    "# Creating a subset with only the columns needed for analysis\n",
    "\n",
    "nypd2 = nypd[['CMPLNT_NUM','OFNS_DESC','VIC_SEX','Borough','Month','Complaint Year']]"
   ]
  },
  {
   "cell_type": "code",
   "execution_count": 29,
   "id": "3a3cd4ed",
   "metadata": {},
   "outputs": [
    {
     "data": {
      "text/html": [
       "<div>\n",
       "<style scoped>\n",
       "    .dataframe tbody tr th:only-of-type {\n",
       "        vertical-align: middle;\n",
       "    }\n",
       "\n",
       "    .dataframe tbody tr th {\n",
       "        vertical-align: top;\n",
       "    }\n",
       "\n",
       "    .dataframe thead th {\n",
       "        text-align: right;\n",
       "    }\n",
       "</style>\n",
       "<table border=\"1\" class=\"dataframe\">\n",
       "  <thead>\n",
       "    <tr style=\"text-align: right;\">\n",
       "      <th></th>\n",
       "      <th>CMPLNT_NUM</th>\n",
       "      <th>OFNS_DESC</th>\n",
       "      <th>VIC_SEX</th>\n",
       "      <th>Borough</th>\n",
       "      <th>Month</th>\n",
       "      <th>Complaint Year</th>\n",
       "    </tr>\n",
       "  </thead>\n",
       "  <tbody>\n",
       "    <tr>\n",
       "      <th>681149</th>\n",
       "      <td>498849139</td>\n",
       "      <td>HARRASSMENT 2</td>\n",
       "      <td>F</td>\n",
       "      <td>QUEENS</td>\n",
       "      <td>12</td>\n",
       "      <td>2019</td>\n",
       "    </tr>\n",
       "    <tr>\n",
       "      <th>681210</th>\n",
       "      <td>195931501</td>\n",
       "      <td>GRAND LARCENY</td>\n",
       "      <td>M</td>\n",
       "      <td>MANHATTAN</td>\n",
       "      <td>12</td>\n",
       "      <td>2019</td>\n",
       "    </tr>\n",
       "    <tr>\n",
       "      <th>681231</th>\n",
       "      <td>139094512</td>\n",
       "      <td>PETIT LARCENY</td>\n",
       "      <td>F</td>\n",
       "      <td>MANHATTAN</td>\n",
       "      <td>12</td>\n",
       "      <td>2019</td>\n",
       "    </tr>\n",
       "    <tr>\n",
       "      <th>681252</th>\n",
       "      <td>696904327</td>\n",
       "      <td>GRAND LARCENY OF MOTOR VEHICLE</td>\n",
       "      <td>M</td>\n",
       "      <td>BROOKLYN</td>\n",
       "      <td>12</td>\n",
       "      <td>2019</td>\n",
       "    </tr>\n",
       "    <tr>\n",
       "      <th>681331</th>\n",
       "      <td>752468886</td>\n",
       "      <td>HARRASSMENT 2</td>\n",
       "      <td>M</td>\n",
       "      <td>BROOKLYN</td>\n",
       "      <td>12</td>\n",
       "      <td>2019</td>\n",
       "    </tr>\n",
       "  </tbody>\n",
       "</table>\n",
       "</div>"
      ],
      "text/plain": [
       "        CMPLNT_NUM                       OFNS_DESC VIC_SEX    Borough Month  \\\n",
       "681149   498849139                   HARRASSMENT 2       F     QUEENS    12   \n",
       "681210   195931501                   GRAND LARCENY       M  MANHATTAN    12   \n",
       "681231   139094512                   PETIT LARCENY       F  MANHATTAN    12   \n",
       "681252   696904327  GRAND LARCENY OF MOTOR VEHICLE       M   BROOKLYN    12   \n",
       "681331   752468886                   HARRASSMENT 2       M   BROOKLYN    12   \n",
       "\n",
       "       Complaint Year  \n",
       "681149           2019  \n",
       "681210           2019  \n",
       "681231           2019  \n",
       "681252           2019  \n",
       "681331           2019  "
      ]
     },
     "execution_count": 29,
     "metadata": {},
     "output_type": "execute_result"
    }
   ],
   "source": [
    "nypd2.head()"
   ]
  },
  {
   "cell_type": "code",
   "execution_count": 30,
   "id": "c494dc5d",
   "metadata": {},
   "outputs": [],
   "source": [
    "# Importing new dataframe into a csv\n",
    "\n",
    "nypd2.to_csv('/Users/pps/Documents/Data/Python/Python for Data Analytics/Projects/Project_2/data.csv')"
   ]
  },
  {
   "cell_type": "code",
   "execution_count": 31,
   "id": "17cf8d13",
   "metadata": {},
   "outputs": [
    {
     "data": {
      "text/plain": [
       "312"
      ]
     },
     "execution_count": 31,
     "metadata": {},
     "output_type": "execute_result"
    }
   ],
   "source": [
    "# Checking for missing values in new dataframe \n",
    "\n",
    "nypd2.isnull().sum().sum()"
   ]
  },
  {
   "cell_type": "code",
   "execution_count": 32,
   "id": "597271b9",
   "metadata": {},
   "outputs": [
    {
     "data": {
      "text/plain": [
       "CMPLNT_NUM          0\n",
       "OFNS_DESC           8\n",
       "VIC_SEX             3\n",
       "Borough           301\n",
       "Month               0\n",
       "Complaint Year      0\n",
       "dtype: int64"
      ]
     },
     "execution_count": 32,
     "metadata": {},
     "output_type": "execute_result"
    }
   ],
   "source": [
    "# What columns contain the missing data \n",
    "\n",
    "nypd2.isnull().sum()"
   ]
  },
  {
   "cell_type": "code",
   "execution_count": 33,
   "id": "22e40f89",
   "metadata": {},
   "outputs": [],
   "source": [
    "# Renaming columns and saving it in a new dataframe\n",
    "\n",
    "nypd2=nypd2.rename(columns={ 'OFNS_DESC' : 'Offense','VIC_SEX': 'Victim Gender', 'Month':'Complaint Month'})"
   ]
  },
  {
   "cell_type": "code",
   "execution_count": 34,
   "id": "81e5c52a",
   "metadata": {},
   "outputs": [
    {
     "data": {
      "text/plain": [
       "Borough\n",
       "BRONX            100263\n",
       "BROOKLYN         131698\n",
       "MANHATTAN        115419\n",
       "QUEENS            91905\n",
       "STATEN ISLAND     18855\n",
       "Name: CMPLNT_NUM, dtype: int64"
      ]
     },
     "execution_count": 34,
     "metadata": {},
     "output_type": "execute_result"
    }
   ],
   "source": [
    "# checking to see if I get the same counts by borough using count() and value_counts()\n",
    "\n",
    "nypd2.groupby(['Borough'])['CMPLNT_NUM'].count()"
   ]
  },
  {
   "cell_type": "code",
   "execution_count": 35,
   "id": "203265a9",
   "metadata": {},
   "outputs": [
    {
     "data": {
      "text/plain": [
       "BROOKLYN         131698\n",
       "MANHATTAN        115419\n",
       "BRONX            100263\n",
       "QUEENS            91905\n",
       "STATEN ISLAND     18855\n",
       "Name: Borough, dtype: int64"
      ]
     },
     "execution_count": 35,
     "metadata": {},
     "output_type": "execute_result"
    }
   ],
   "source": [
    "nypd2['Borough'].value_counts()"
   ]
  },
  {
   "cell_type": "code",
   "execution_count": 36,
   "id": "c16cd57d",
   "metadata": {},
   "outputs": [],
   "source": [
    "# Creating another dataframe filtering only for Brooklyn\n",
    "\n",
    "filt = nypd2['Borough']=='BROOKLYN'\n",
    "nypd3 = nypd2.loc[filt]"
   ]
  },
  {
   "cell_type": "code",
   "execution_count": 37,
   "id": "7635db9d",
   "metadata": {},
   "outputs": [
    {
     "data": {
      "text/plain": [
       "BROOKLYN    131698\n",
       "Name: Borough, dtype: int64"
      ]
     },
     "execution_count": 37,
     "metadata": {},
     "output_type": "execute_result"
    }
   ],
   "source": [
    "nypd3['Borough'].value_counts()"
   ]
  },
  {
   "cell_type": "code",
   "execution_count": 38,
   "id": "175db64e",
   "metadata": {},
   "outputs": [
    {
     "data": {
      "text/plain": [
       "PETIT LARCENY                           24384\n",
       "HARRASSMENT 2                           20494\n",
       "ASSAULT 3 & RELATED OFFENSES            14465\n",
       "CRIMINAL MISCHIEF & RELATED OF          13811\n",
       "GRAND LARCENY                           11226\n",
       "FELONY ASSAULT                           6047\n",
       "OFF. AGNST PUB ORD SENSBLTY &            5983\n",
       "MISCELLANEOUS PENAL LAW                  5465\n",
       "ROBBERY                                  4020\n",
       "BURGLARY                                 3565\n",
       "DANGEROUS DRUGS                          3194\n",
       "DANGEROUS WEAPONS                        2265\n",
       "VEHICLE AND TRAFFIC LAWS                 2046\n",
       "SEX CRIMES                               1885\n",
       "FORGERY                                  1823\n",
       "GRAND LARCENY OF MOTOR VEHICLE           1775\n",
       "OFFENSES AGAINST PUBLIC ADMINI           1642\n",
       "INTOXICATED & IMPAIRED DRIVING           1389\n",
       "THEFT-FRAUD                              1072\n",
       "CRIMINAL TRESPASS                         872\n",
       "UNAUTHORIZED USE OF A VEHICLE             575\n",
       "RAPE                                      505\n",
       "FRAUDS                                    479\n",
       "POSSESSION OF STOLEN PROPERTY             461\n",
       "OTHER OFFENSES RELATED TO THEF            356\n",
       "OFFENSES AGAINST THE PERSON               333\n",
       "ADMINISTRATIVE CODE                       294\n",
       "OFFENSES INVOLVING FRAUD                  213\n",
       "ARSON                                     203\n",
       "NYS LAWS-UNCLASSIFIED FELONY              166\n",
       "GAMBLING                                  156\n",
       "BURGLAR'S TOOLS                            96\n",
       "OTHER STATE LAWS (NON PENAL LA             94\n",
       "ALCOHOLIC BEVERAGE CONTROL LAW             77\n",
       "THEFT OF SERVICES                          47\n",
       "PETIT LARCENY OF MOTOR VEHICLE             42\n",
       "AGRICULTURE & MRKTS LAW-UNCLASSIFIED       32\n",
       "KIDNAPPING & RELATED OFFENSES              32\n",
       "OFFENSES RELATED TO CHILDREN               27\n",
       "PROSTITUTION & RELATED OFFENSES            25\n",
       "OFFENSES AGAINST PUBLIC SAFETY             15\n",
       "DISORDERLY CONDUCT                         11\n",
       "KIDNAPPING                                  5\n",
       "NYS LAWS-UNCLASSIFIED VIOLATION             5\n",
       "OTHER STATE LAWS                            4\n",
       "CHILD ABANDONMENT/NON SUPPORT               4\n",
       "ENDAN WELFARE INCOMP                        3\n",
       "ESCAPE 3                                    3\n",
       "FRAUDULENT ACCOSTING                        2\n",
       "JOSTLING                                    2\n",
       "OTHER STATE LAWS (NON PENAL LAW)            1\n",
       "HOMICIDE-NEGLIGENT-VEHICLE                  1\n",
       "KIDNAPPING AND RELATED OFFENSES             1\n",
       "HOMICIDE-NEGLIGENT,UNCLASSIFIE              1\n",
       "LOITERING/GAMBLING (CARDS, DIC              1\n",
       "INTOXICATED/IMPAIRED DRIVING                1\n",
       "ANTICIPATORY OFFENSES                       1\n",
       "FELONY SEX CRIMES                           1\n",
       "Name: Offense, dtype: int64"
      ]
     },
     "execution_count": 38,
     "metadata": {},
     "output_type": "execute_result"
    }
   ],
   "source": [
    "# Counts by offense in Brooklyn\n",
    "\n",
    "nypd3['Offense'].value_counts()"
   ]
  },
  {
   "cell_type": "code",
   "execution_count": 39,
   "id": "75eae306",
   "metadata": {},
   "outputs": [],
   "source": [
    "# Creating another data set filtering down using offense column\n",
    "\n",
    "filt = nypd3['Offense']=='PETIT LARCENY'\n",
    "nypd4 = nypd3.loc[filt]"
   ]
  },
  {
   "cell_type": "code",
   "execution_count": 40,
   "id": "a654478e",
   "metadata": {},
   "outputs": [
    {
     "data": {
      "text/plain": [
       "PETIT LARCENY    24384\n",
       "Name: Offense, dtype: int64"
      ]
     },
     "execution_count": 40,
     "metadata": {},
     "output_type": "execute_result"
    }
   ],
   "source": [
    "nypd4['Offense'].value_counts()"
   ]
  },
  {
   "cell_type": "code",
   "execution_count": 41,
   "id": "a40372cd",
   "metadata": {},
   "outputs": [
    {
     "data": {
      "text/plain": [
       "Victim Gender  Complaint Month\n",
       "D              01                 693\n",
       "               02                 601\n",
       "               03                 625\n",
       "               04                 715\n",
       "               05                 741\n",
       "               06                 749\n",
       "               07                 861\n",
       "               08                 768\n",
       "               09                 821\n",
       "               10                 836\n",
       "               11                 699\n",
       "               12                 694\n",
       "E              01                   4\n",
       "               02                   5\n",
       "               03                   2\n",
       "               04                   9\n",
       "               05                   4\n",
       "               06                   8\n",
       "               07                   7\n",
       "               08                   2\n",
       "               09                   6\n",
       "               10                   3\n",
       "               11                   3\n",
       "               12                   3\n",
       "F              01                 502\n",
       "               02                 442\n",
       "               03                 504\n",
       "               04                 508\n",
       "               05                 522\n",
       "               06                 558\n",
       "               07                 615\n",
       "               08                 635\n",
       "               09                 605\n",
       "               10                 625\n",
       "               11                 574\n",
       "               12                 689\n",
       "M              01                 640\n",
       "               02                 544\n",
       "               03                 669\n",
       "               04                 630\n",
       "               05                 731\n",
       "               06                 765\n",
       "               07                 851\n",
       "               08                 807\n",
       "               09                 825\n",
       "               10                 784\n",
       "               11                 707\n",
       "               12                 793\n",
       "Name: CMPLNT_NUM, dtype: int64"
      ]
     },
     "execution_count": 41,
     "metadata": {},
     "output_type": "execute_result"
    }
   ],
   "source": [
    "nypd4.groupby(['Victim Gender','Complaint Month'])['CMPLNT_NUM'].count()"
   ]
  },
  {
   "cell_type": "code",
   "execution_count": 42,
   "id": "f12405ad",
   "metadata": {},
   "outputs": [],
   "source": [
    "# Assumed the E value is for Error and D value is for Did Not Indicate, replacing those values with A = Anonymous\n",
    "\n",
    "nypd4 = nypd4.replace(['E','D'], 'A')"
   ]
  },
  {
   "cell_type": "code",
   "execution_count": 43,
   "id": "18cf2e2d",
   "metadata": {},
   "outputs": [
    {
     "data": {
      "text/plain": [
       "Victim Gender  Complaint Month\n",
       "A              01                 697\n",
       "               02                 606\n",
       "               03                 627\n",
       "               04                 724\n",
       "               05                 745\n",
       "               06                 757\n",
       "               07                 868\n",
       "               08                 770\n",
       "               09                 827\n",
       "               10                 839\n",
       "               11                 702\n",
       "               12                 697\n",
       "F              01                 502\n",
       "               02                 442\n",
       "               03                 504\n",
       "               04                 508\n",
       "               05                 522\n",
       "               06                 558\n",
       "               07                 615\n",
       "               08                 635\n",
       "               09                 605\n",
       "               10                 625\n",
       "               11                 574\n",
       "               12                 689\n",
       "M              01                 640\n",
       "               02                 544\n",
       "               03                 669\n",
       "               04                 630\n",
       "               05                 731\n",
       "               06                 765\n",
       "               07                 851\n",
       "               08                 807\n",
       "               09                 825\n",
       "               10                 784\n",
       "               11                 707\n",
       "               12                 793\n",
       "Name: CMPLNT_NUM, dtype: int64"
      ]
     },
     "execution_count": 43,
     "metadata": {},
     "output_type": "execute_result"
    }
   ],
   "source": [
    "nypd4.groupby(['Victim Gender','Complaint Month'])['CMPLNT_NUM'].count()"
   ]
  },
  {
   "cell_type": "markdown",
   "id": "42718a74",
   "metadata": {},
   "source": [
    "### *3. Visualizations*"
   ]
  },
  {
   "cell_type": "markdown",
   "id": "af5f9137",
   "metadata": {},
   "source": [
    "#### *3B. Bar Chart*"
   ]
  },
  {
   "cell_type": "code",
   "execution_count": 44,
   "id": "89621877",
   "metadata": {},
   "outputs": [
    {
     "data": {
      "image/png": "[encoded data removed]",
      "text/plain": [
       "<Figure size 432x288 with 1 Axes>"
      ]
     },
     "metadata": {},
     "output_type": "display_data"
    }
   ],
   "source": [
    "plt.xkcd() #style for chart\n",
    "\n",
    "with open('Data.csv') as csv_file:\n",
    "    csv_reader = csv.DictReader(csv_file) \n",
    "    # Counter() counts every instance of the object in the data\n",
    "    borough_counter = Counter() \n",
    "    # Now we loop all our data and we want to do with the data within the list of boroughs\n",
    "    for row in csv_reader:      \n",
    "        borough_counter.update(row['Borough'].split(';'))\n",
    "\n",
    "# set two empty lists\n",
    "boroughs = []\n",
    "complaints = []\n",
    "\n",
    "# loop over all the tuples we get back from the most_common() method\n",
    "for item in borough_counter.most_common(5): # 5 was used to bring back top 5 this will exclude the missing values\n",
    "    # First value\n",
    "    boroughs.append(item[0])\n",
    "    # Second Value\n",
    "    complaints.append(item[1])\n",
    "\n",
    "# reverse() reverses the list in place\n",
    "boroughs.reverse() \n",
    "complaints.reverse()    \n",
    "    \n",
    "plt.barh(boroughs, complaints)\n",
    "\n",
    "plt.title('Complaints Reported in 2019 in NYC',fontsize=20)\n",
    "plt.xlabel('Number of Complaints')\n",
    "\n",
    "plt.tight_layout() \n",
    "\n",
    "plt.rcdefaults() # resets rc due to xkcd style\n",
    "plt.rcParams[\"figure.figsize\"] = (10,10) # sizes chart"
   ]
  },
  {
   "cell_type": "markdown",
   "id": "cff671b2",
   "metadata": {},
   "source": [
    "#### *3C. Pie Chart*"
   ]
  },
  {
   "cell_type": "code",
   "execution_count": 45,
   "id": "4e8cf039",
   "metadata": {},
   "outputs": [
    {
     "data": {
      "text/plain": [
       "Text(0.5, 1.0, 'Top 5 Offenses in Brooklyn (2019)')"
      ]
     },
     "execution_count": 45,
     "metadata": {},
     "output_type": "execute_result"
    },
    {
     "data": {
      "image/png": "[encoded data removed]",
      "text/plain": [
       "<Figure size 1280x880 with 1 Axes>"
      ]
     },
     "metadata": {},
     "output_type": "display_data"
    }
   ],
   "source": [
    "\n",
    "plt.rcdefaults() # reset rc parameters\n",
    "plt.style.use('seaborn-poster')\n",
    "\n",
    "\"\"\"\n",
    "Top Offenses in BK\n",
    "PETIT LARCENY                           24384\n",
    "HARRASSMENT 2                           20494\n",
    "ASSAULT 3 & RELATED OFFENSES            14465\n",
    "CRIMINAL MISCHIEF & RELATED OF          13811\n",
    "GRAND LARCENY                           11226\n",
    "\"\"\"\n",
    "\n",
    "slices = [24384, 20494, 14465, 13811, 11226] # values for slices\n",
    "labels = ['PETIT LARCENY', 'HARRASSMENT 2', 'ASSAULT 3 & RELATED OFFENSES', 'CRIMINAL MISCHIEF', 'GRAND LARCENY ']\n",
    "explode = [0.1,0,0,0,0] # makes slices move away from radius\n",
    "\n",
    "# formatting\n",
    "plt.pie(slices, labels=labels, explode = explode, shadow = True,\n",
    "        startangle =90, autopct='%1.1f%%', # autopct adds percentages\n",
    "        wedgeprops={'edgecolor': 'black'})\n",
    "\n",
    "# title formatting\n",
    "plt.title(\"Top 5 Offenses in Brooklyn (2019)\", fontsize=24, color=\"white\",\n",
    "          fontstyle='italic', backgroundcolor = 'black')\n"
   ]
  },
  {
   "cell_type": "markdown",
   "id": "91135970",
   "metadata": {},
   "source": [
    "#### *3D. Line Chart*"
   ]
  },
  {
   "cell_type": "code",
   "execution_count": 46,
   "id": "6d7e67fc",
   "metadata": {},
   "outputs": [
    {
     "data": {
      "image/png": "[encoded data removed]",
      "text/plain": [
       "<Figure size 640x480 with 1 Axes>"
      ]
     },
     "metadata": {},
     "output_type": "display_data"
    }
   ],
   "source": [
    "plt.rcdefaults() # reset rc parameters\n",
    "plt.style.use('seaborn-dark') # style for chart\n",
    "\n",
    "# values for x axis\n",
    "months_x = ['Jan','Feb','Mar','Apr','May','Jun','Jul','Aug','Sep','Oct','Nov','Dec']\n",
    "\n",
    "# values for y axos\n",
    "m_y = [640, 544, 669, 630, 731, 765, 851, 807, 825, 784, 707, 793]\n",
    "plt.plot(months_x, m_y, label = 'Male', linewidth=2, marker='*')\n",
    "# passed label, marker and line arguements\n",
    "\n",
    "f_y = [502, 442, 504, 508, 522, 558, 615, 635, 605, 625, 574, 689]\n",
    "plt.plot(months_x, f_y, label = 'Female', linewidth=2, marker='d') \n",
    "\n",
    "a_y = [676, 606, 627, 724, 745, 757, 868, 770, 827 ,839 ,702 ,697]\n",
    "plt.plot(months_x, a_y, color='#444444', linestyle ='--', label = 'Anonymous') \n",
    "# passed color argument using hex color code\n",
    "\n",
    "plt.xlabel('Months')\n",
    "\n",
    "#formatting\n",
    "plt.title('Victims of Petit Larceny in Brooklyn (2019)',fontsize=24, color=\"black\",\n",
    "          fontname='Brush Script MT')\n",
    "\n",
    "plt.legend(title = 'Legend Key')\n",
    "\n",
    "plt.grid(True) #adds gridlines\n",
    "plt.tight_layout()\n",
    "plt.rcParams[\"figure.figsize\"] = (10,5) # sizes chart"
   ]
  },
  {
   "cell_type": "markdown",
   "id": "4dd23ee7",
   "metadata": {},
   "source": [
    "### *4. Conclusion*"
   ]
  },
  {
   "cell_type": "markdown",
   "id": "51ae4cff",
   "metadata": {},
   "source": [
    "In 2019, Brooklyn had the most complaints (131,698) reported in New York City, which was driven mostly by Petit Larcerny (24,384) also known as petty theft. Males were targeted the most and petty theft was the highest during the summer months, peaking in July. December also saw an influx of complaints especially by female victims."
   ]
  },
  {
   "cell_type": "code",
   "execution_count": 47,
   "id": "dedb37e6",
   "metadata": {},
   "outputs": [
    {
     "data": {
      "text/html": [
       "\n",
       "        <iframe\n",
       "            width=\"100%\"\n",
       "            height=\"500\"\n",
       "            src=\"pivottablejs.html\"\n",
       "            frameborder=\"0\"\n",
       "            allowfullscreen\n",
       "            \n",
       "        ></iframe>\n",
       "        "
      ],
      "text/plain": [
       "<IPython.lib.display.IFrame at 0x7f933d023d30>"
      ]
     },
     "execution_count": 47,
     "metadata": {},
     "output_type": "execute_result"
    }
   ],
   "source": [
    "from pivottablejs import pivot_ui\n",
    "pivot_ui(nypd4)"
   ]
  },
  {
   "cell_type": "code",
   "execution_count": null,
   "id": "519e3154",
   "metadata": {},
   "outputs": [],
   "source": []
  }
 ],
 "metadata": {
  "kernelspec": {
   "display_name": "Python 3 (ipykernel)",
   "language": "python",
   "name": "python3"
  },
  "language_info": {
   "codemirror_mode": {
    "name": "ipython",
    "version": 3
   },
   "file_extension": ".py",
   "mimetype": "text/x-python",
   "name": "python",
   "nbconvert_exporter": "python",
   "pygments_lexer": "ipython3",
   "version": "3.9.12"
  }
 },
 "nbformat": 4,
 "nbformat_minor": 5
}
